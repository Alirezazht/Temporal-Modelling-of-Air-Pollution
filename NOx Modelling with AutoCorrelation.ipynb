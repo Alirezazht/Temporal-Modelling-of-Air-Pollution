{
 "cells": [
  {
   "cell_type": "code",
   "execution_count": 1,
   "metadata": {
    "scrolled": true
   },
   "outputs": [
    {
     "data": {
      "text/html": [
       "<div>\n",
       "<style scoped>\n",
       "    .dataframe tbody tr th:only-of-type {\n",
       "        vertical-align: middle;\n",
       "    }\n",
       "\n",
       "    .dataframe tbody tr th {\n",
       "        vertical-align: top;\n",
       "    }\n",
       "\n",
       "    .dataframe thead th {\n",
       "        text-align: right;\n",
       "    }\n",
       "</style>\n",
       "<table border=\"1\" class=\"dataframe\">\n",
       "  <thead>\n",
       "    <tr style=\"text-align: right;\">\n",
       "      <th></th>\n",
       "      <th>Unnamed: 0</th>\n",
       "      <th>roz_aval</th>\n",
       "      <th>roz_dovom</th>\n",
       "      <th>roz_sevom</th>\n",
       "      <th>roz_4</th>\n",
       "      <th>Tempreture</th>\n",
       "      <th>Humid</th>\n",
       "      <th>Wind Speed</th>\n",
       "      <th>Wind Direction Sin</th>\n",
       "      <th>Wind Direction COS</th>\n",
       "      <th>Pressure</th>\n",
       "      <th>RainFall</th>\n",
       "      <th>roz_pihbini</th>\n",
       "    </tr>\n",
       "  </thead>\n",
       "  <tbody>\n",
       "    <tr>\n",
       "      <th>0</th>\n",
       "      <td>0</td>\n",
       "      <td>10.434783</td>\n",
       "      <td>14.041667</td>\n",
       "      <td>12.541667</td>\n",
       "      <td>12.541667</td>\n",
       "      <td>18.9</td>\n",
       "      <td>70.125</td>\n",
       "      <td>1.875</td>\n",
       "      <td>-0.500</td>\n",
       "      <td>0.866025</td>\n",
       "      <td>1007.70</td>\n",
       "      <td>1.0</td>\n",
       "      <td>12.916667</td>\n",
       "    </tr>\n",
       "    <tr>\n",
       "      <th>1</th>\n",
       "      <td>1</td>\n",
       "      <td>14.041667</td>\n",
       "      <td>12.541667</td>\n",
       "      <td>9.958333</td>\n",
       "      <td>9.958333</td>\n",
       "      <td>20.0</td>\n",
       "      <td>60.750</td>\n",
       "      <td>1.125</td>\n",
       "      <td>-0.866</td>\n",
       "      <td>0.500000</td>\n",
       "      <td>1012.65</td>\n",
       "      <td>0.0</td>\n",
       "      <td>20.000000</td>\n",
       "    </tr>\n",
       "    <tr>\n",
       "      <th>2</th>\n",
       "      <td>2</td>\n",
       "      <td>12.541667</td>\n",
       "      <td>9.958333</td>\n",
       "      <td>12.916667</td>\n",
       "      <td>12.916667</td>\n",
       "      <td>20.8</td>\n",
       "      <td>52.875</td>\n",
       "      <td>1.000</td>\n",
       "      <td>-0.342</td>\n",
       "      <td>0.939693</td>\n",
       "      <td>1014.34</td>\n",
       "      <td>0.0</td>\n",
       "      <td>24.000000</td>\n",
       "    </tr>\n",
       "    <tr>\n",
       "      <th>3</th>\n",
       "      <td>3</td>\n",
       "      <td>9.958333</td>\n",
       "      <td>12.916667</td>\n",
       "      <td>20.000000</td>\n",
       "      <td>20.000000</td>\n",
       "      <td>21.3</td>\n",
       "      <td>47.500</td>\n",
       "      <td>1.125</td>\n",
       "      <td>-0.500</td>\n",
       "      <td>-0.866025</td>\n",
       "      <td>1013.30</td>\n",
       "      <td>0.0</td>\n",
       "      <td>21.291667</td>\n",
       "    </tr>\n",
       "    <tr>\n",
       "      <th>4</th>\n",
       "      <td>4</td>\n",
       "      <td>12.916667</td>\n",
       "      <td>20.000000</td>\n",
       "      <td>24.000000</td>\n",
       "      <td>24.000000</td>\n",
       "      <td>23.2</td>\n",
       "      <td>48.125</td>\n",
       "      <td>0.875</td>\n",
       "      <td>0.866</td>\n",
       "      <td>0.500000</td>\n",
       "      <td>1012.22</td>\n",
       "      <td>0.0</td>\n",
       "      <td>20.416667</td>\n",
       "    </tr>\n",
       "  </tbody>\n",
       "</table>\n",
       "</div>"
      ],
      "text/plain": [
       "   Unnamed: 0   roz_aval  roz_dovom  roz_sevom      roz_4  Tempreture   Humid  \\\n",
       "0           0  10.434783  14.041667  12.541667  12.541667        18.9  70.125   \n",
       "1           1  14.041667  12.541667   9.958333   9.958333        20.0  60.750   \n",
       "2           2  12.541667   9.958333  12.916667  12.916667        20.8  52.875   \n",
       "3           3   9.958333  12.916667  20.000000  20.000000        21.3  47.500   \n",
       "4           4  12.916667  20.000000  24.000000  24.000000        23.2  48.125   \n",
       "\n",
       "   Wind Speed  Wind Direction Sin  Wind Direction COS  Pressure  RainFall  \\\n",
       "0       1.875              -0.500            0.866025   1007.70       1.0   \n",
       "1       1.125              -0.866            0.500000   1012.65       0.0   \n",
       "2       1.000              -0.342            0.939693   1014.34       0.0   \n",
       "3       1.125              -0.500           -0.866025   1013.30       0.0   \n",
       "4       0.875               0.866            0.500000   1012.22       0.0   \n",
       "\n",
       "   roz_pihbini  \n",
       "0    12.916667  \n",
       "1    20.000000  \n",
       "2    24.000000  \n",
       "3    21.291667  \n",
       "4    20.416667  "
      ]
     },
     "execution_count": 1,
     "metadata": {},
     "output_type": "execute_result"
    }
   ],
   "source": [
    "import pandas as pd\n",
    "data = pd.read_excel('NOx_with_AR.xlsx')\n",
    "\n",
    "data.head()"
   ]
  },
  {
   "cell_type": "code",
   "execution_count": 23,
   "metadata": {},
   "outputs": [],
   "source": [
    "X = data[['roz_aval','roz_dovom','roz_sevom','roz_4','Tempreture','Humid','Wind Direction Sin','Wind Direction COS','Pressure','RainFall']]\n",
    "X = X.values\n",
    "Y = data['roz_pihbini']"
   ]
  },
  {
   "cell_type": "code",
   "execution_count": 24,
   "metadata": {},
   "outputs": [],
   "source": [
    "from sklearn.model_selection import train_test_split\n",
    "x_train,x_test,y_train,y_test = train_test_split(X,Y, random_state=0 ,test_size=0.2)"
   ]
  },
  {
   "cell_type": "code",
   "execution_count": 29,
   "metadata": {},
   "outputs": [
    {
     "name": "stdout",
     "output_type": "stream",
     "text": [
      "WARNING:tensorflow:5 out of the last 13 calls to <function Model.make_test_function.<locals>.test_function at 0x000001F8AAA5D510> triggered tf.function retracing. Tracing is expensive and the excessive number of tracings could be due to (1) creating @tf.function repeatedly in a loop, (2) passing tensors with different shapes, (3) passing Python objects instead of tensors. For (1), please define your @tf.function outside of the loop. For (2), @tf.function has experimental_relax_shapes=True option that relaxes argument shapes that can avoid unnecessary retracing. For (3), please refer to https://www.tensorflow.org/guide/function#controlling_retracing and https://www.tensorflow.org/api_docs/python/tf/function for  more details.\n",
      "3/3 [==============================] - 0s 4ms/step - loss: 146.5063\n"
     ]
    },
    {
     "data": {
      "text/plain": [
       "146.50631713867188"
      ]
     },
     "execution_count": 29,
     "metadata": {},
     "output_type": "execute_result"
    }
   ],
   "source": [
    "import keras\n",
    "from keras.layers import Dense\n",
    "from keras.models import Sequential\n",
    "model = Sequential()\n",
    "model.add(Dense(18, activation='relu', input_dim=10))\n",
    "model.add(Dense(19,activation = 'relu'))\n",
    "model.add(Dense(1))\n",
    "model.compile(optimizer='adam', loss='mse')\n",
    "model.fit(x_train, y_train, epochs=2000,batch_size=len(x_train), verbose=0)\n",
    "model.evaluate(x_test,y_test)"
   ]
  },
  {
   "cell_type": "code",
   "execution_count": 30,
   "metadata": {},
   "outputs": [
    {
     "name": "stdout",
     "output_type": "stream",
     "text": [
      "WARNING:tensorflow:5 out of the last 13 calls to <function Model.make_predict_function.<locals>.predict_function at 0x000001F8AAA5DE18> triggered tf.function retracing. Tracing is expensive and the excessive number of tracings could be due to (1) creating @tf.function repeatedly in a loop, (2) passing tensors with different shapes, (3) passing Python objects instead of tensors. For (1), please define your @tf.function outside of the loop. For (2), @tf.function has experimental_relax_shapes=True option that relaxes argument shapes that can avoid unnecessary retracing. For (3), please refer to https://www.tensorflow.org/guide/function#controlling_retracing and https://www.tensorflow.org/api_docs/python/tf/function for  more details.\n",
      "mse : 146.506\n",
      "rmse : 12.104\n",
      "mae : 7.747\n"
     ]
    }
   ],
   "source": [
    "from sklearn.metrics import mean_squared_error\n",
    "from sklearn.metrics import mean_absolute_error\n",
    "import math\n",
    "y_new_inverse3 = model.predict(x_test)\n",
    "mse33 = mean_squared_error(y_test, y_new_inverse3)\n",
    "mae33 = mean_absolute_error(y_test, y_new_inverse3)\n",
    "rmse33 = math.sqrt(mse33)\n",
    "print('mse : %.3f'%mse33)\n",
    "print('rmse : %.3f'%rmse33)\n",
    "print('mae : %.3f'%mae33)"
   ]
  },
  {
   "cell_type": "code",
   "execution_count": 31,
   "metadata": {
    "scrolled": true
   },
   "outputs": [
    {
     "data": {
      "text/plain": [
       "(0, 90)"
      ]
     },
     "execution_count": 31,
     "metadata": {},
     "output_type": "execute_result"
    },
    {
     "data": {
      "image/png": "[encoded data removed]",
      "text/plain": [
       "<Figure size 432x288 with 1 Axes>"
      ]
     },
     "metadata": {
      "needs_background": "light"
     },
     "output_type": "display_data"
    }
   ],
   "source": [
    "import matplotlib\n",
    "import matplotlib.pyplot as plt\n",
    "from sklearn.metrics import median_absolute_error, r2_score\n",
    "plt.scatter(y_test,y_new_inverse3)\n",
    "plt.plot([0, 250], [0, 250], '--k')\n",
    "plt.ylabel('predicted')\n",
    "plt.xlabel('observed')\n",
    "plt.text(18,80,'MLP',fontsize=16)\n",
    "plt.text(15,72, r'$R^2$=%.2f'% (\n",
    "       r2_score(y_test,y_new_inverse3)),fontsize=12)\n",
    "plt.xlim([0, 90])\n",
    "plt.ylim([0, 90])"
   ]
  },
  {
   "cell_type": "code",
   "execution_count": 32,
   "metadata": {},
   "outputs": [
    {
     "name": "stdout",
     "output_type": "stream",
     "text": [
      "Saved model to disk\n"
     ]
    }
   ],
   "source": [
    "model_json1 = model.to_json()\n",
    "with open(\"MLP_NOx_with_AR_1.json\", \"w\") as json_file:\n",
    "    json_file.write(model_json1)\n",
    "# serialize weights to HDF5\n",
    "model.save_weights(\"MLP_NOx_with_AR_1.h5\")\n",
    "print(\"Saved model to disk\")"
   ]
  },
  {
   "cell_type": "markdown",
   "metadata": {},
   "source": [
    "# Random Forest"
   ]
  },
  {
   "cell_type": "code",
   "execution_count": 41,
   "metadata": {},
   "outputs": [
    {
     "name": "stdout",
     "output_type": "stream",
     "text": [
      "mse : 178.123\n",
      "rmse : 13.346\n",
      "mae : 8.016\n"
     ]
    }
   ],
   "source": [
    "from sklearn.ensemble import RandomForestRegressor\n",
    "from sklearn.metrics import mean_squared_error\n",
    "from sklearn.metrics import mean_absolute_error\n",
    "import math\n",
    "regressor10 = RandomForestRegressor(n_estimators=64, random_state=0)\n",
    "regressor10.fit(x_train, y_train)\n",
    "y_new_inverse30 = regressor10.predict(x_test)\n",
    "mse33 = mean_squared_error(y_test, y_new_inverse30)\n",
    "mae33 = mean_absolute_error(y_test, y_new_inverse30)\n",
    "rmse33 = math.sqrt(mse33)\n",
    "print('mse : %.3f'%mse33)\n",
    "print('rmse : %.3f'%rmse33)\n",
    "print('mae : %.3f'%mae33)"
   ]
  },
  {
   "cell_type": "code",
   "execution_count": 43,
   "metadata": {},
   "outputs": [
    {
     "data": {
      "text/plain": [
       "(0, 90)"
      ]
     },
     "execution_count": 43,
     "metadata": {},
     "output_type": "execute_result"
    },
    {
     "data": {
      "image/png": "[encoded data removed]",
      "text/plain": [
       "<Figure size 432x288 with 1 Axes>"
      ]
     },
     "metadata": {
      "needs_background": "light"
     },
     "output_type": "display_data"
    }
   ],
   "source": [
    "import matplotlib\n",
    "import matplotlib.pyplot as plt\n",
    "from sklearn.metrics import median_absolute_error, r2_score\n",
    "plt.scatter(y_test,y_new_inverse30)\n",
    "plt.plot([0, 250], [0, 250], '--k')\n",
    "plt.ylabel('predicted')\n",
    "plt.xlabel('observed')\n",
    "plt.text(7,80,'Random Forest',fontsize=16)\n",
    "plt.text(15,72, r'$R^2$=%.2f'% (\n",
    "       r2_score(y_test,y_new_inverse30)),fontsize=12)\n",
    "plt.xlim([0, 90])\n",
    "plt.ylim([0, 90])"
   ]
  },
  {
   "cell_type": "code",
   "execution_count": null,
   "metadata": {},
   "outputs": [],
   "source": []
  }
 ],
 "metadata": {
  "kernelspec": {
   "display_name": "Python 3",
   "language": "python",
   "name": "python3"
  },
  "language_info": {
   "codemirror_mode": {
    "name": "ipython",
    "version": 3
   },
   "file_extension": ".py",
   "mimetype": "text/x-python",
   "name": "python",
   "nbconvert_exporter": "python",
   "pygments_lexer": "ipython3",
   "version": "3.7.3"
  }
 },
 "nbformat": 4,
 "nbformat_minor": 2
}
