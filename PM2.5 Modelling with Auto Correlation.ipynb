{
 "cells": [
  {
   "cell_type": "code",
   "execution_count": 2,
   "metadata": {
    "scrolled": true
   },
   "outputs": [
    {
     "data": {
      "text/html": [
       "<div>\n",
       "<style scoped>\n",
       "    .dataframe tbody tr th:only-of-type {\n",
       "        vertical-align: middle;\n",
       "    }\n",
       "\n",
       "    .dataframe tbody tr th {\n",
       "        vertical-align: top;\n",
       "    }\n",
       "\n",
       "    .dataframe thead th {\n",
       "        text-align: right;\n",
       "    }\n",
       "</style>\n",
       "<table border=\"1\" class=\"dataframe\">\n",
       "  <thead>\n",
       "    <tr style=\"text-align: right;\">\n",
       "      <th></th>\n",
       "      <th>Unnamed: 0</th>\n",
       "      <th>roz_aval</th>\n",
       "      <th>roz_dovom</th>\n",
       "      <th>roz_sevom</th>\n",
       "      <th>roz_4</th>\n",
       "      <th>roz_5</th>\n",
       "      <th>roz_6</th>\n",
       "      <th>Tempreture</th>\n",
       "      <th>Humid</th>\n",
       "      <th>Wind Speed</th>\n",
       "      <th>Wind Direction Sin</th>\n",
       "      <th>Wind Direction COS</th>\n",
       "      <th>Pressure</th>\n",
       "      <th>RainFall</th>\n",
       "      <th>roz_pihbini</th>\n",
       "      <th>PM10</th>\n",
       "    </tr>\n",
       "  </thead>\n",
       "  <tbody>\n",
       "    <tr>\n",
       "      <th>0</th>\n",
       "      <td>0</td>\n",
       "      <td>40.363636</td>\n",
       "      <td>41.541667</td>\n",
       "      <td>43.416667</td>\n",
       "      <td>38.291667</td>\n",
       "      <td>23.681818</td>\n",
       "      <td>42.916667</td>\n",
       "      <td>20.8</td>\n",
       "      <td>52.875</td>\n",
       "      <td>1.000</td>\n",
       "      <td>-0.3420</td>\n",
       "      <td>9.396926e-01</td>\n",
       "      <td>1014.34</td>\n",
       "      <td>0.0</td>\n",
       "      <td>35.750000</td>\n",
       "      <td>95.166667</td>\n",
       "    </tr>\n",
       "    <tr>\n",
       "      <th>1</th>\n",
       "      <td>1</td>\n",
       "      <td>41.541667</td>\n",
       "      <td>43.416667</td>\n",
       "      <td>38.291667</td>\n",
       "      <td>23.681818</td>\n",
       "      <td>42.916667</td>\n",
       "      <td>35.750000</td>\n",
       "      <td>21.3</td>\n",
       "      <td>47.500</td>\n",
       "      <td>1.125</td>\n",
       "      <td>-0.5000</td>\n",
       "      <td>-8.660254e-01</td>\n",
       "      <td>1013.30</td>\n",
       "      <td>0.0</td>\n",
       "      <td>36.666667</td>\n",
       "      <td>76.208333</td>\n",
       "    </tr>\n",
       "    <tr>\n",
       "      <th>2</th>\n",
       "      <td>2</td>\n",
       "      <td>43.416667</td>\n",
       "      <td>38.291667</td>\n",
       "      <td>23.681818</td>\n",
       "      <td>42.916667</td>\n",
       "      <td>35.750000</td>\n",
       "      <td>36.666667</td>\n",
       "      <td>23.2</td>\n",
       "      <td>48.125</td>\n",
       "      <td>0.875</td>\n",
       "      <td>0.8660</td>\n",
       "      <td>5.000000e-01</td>\n",
       "      <td>1012.22</td>\n",
       "      <td>0.0</td>\n",
       "      <td>35.375000</td>\n",
       "      <td>87.833333</td>\n",
       "    </tr>\n",
       "    <tr>\n",
       "      <th>3</th>\n",
       "      <td>3</td>\n",
       "      <td>38.291667</td>\n",
       "      <td>23.681818</td>\n",
       "      <td>42.916667</td>\n",
       "      <td>35.750000</td>\n",
       "      <td>36.666667</td>\n",
       "      <td>35.375000</td>\n",
       "      <td>24.1</td>\n",
       "      <td>50.750</td>\n",
       "      <td>0.875</td>\n",
       "      <td>-0.9848</td>\n",
       "      <td>-1.736482e-01</td>\n",
       "      <td>1012.36</td>\n",
       "      <td>0.0</td>\n",
       "      <td>46.375000</td>\n",
       "      <td>73.166667</td>\n",
       "    </tr>\n",
       "    <tr>\n",
       "      <th>4</th>\n",
       "      <td>4</td>\n",
       "      <td>23.681818</td>\n",
       "      <td>42.916667</td>\n",
       "      <td>35.750000</td>\n",
       "      <td>36.666667</td>\n",
       "      <td>35.375000</td>\n",
       "      <td>46.375000</td>\n",
       "      <td>24.1</td>\n",
       "      <td>49.375</td>\n",
       "      <td>2.000</td>\n",
       "      <td>1.0000</td>\n",
       "      <td>6.123234e-17</td>\n",
       "      <td>1011.30</td>\n",
       "      <td>0.4</td>\n",
       "      <td>49.208333</td>\n",
       "      <td>106.000000</td>\n",
       "    </tr>\n",
       "  </tbody>\n",
       "</table>\n",
       "</div>"
      ],
      "text/plain": [
       "   Unnamed: 0   roz_aval  roz_dovom  roz_sevom      roz_4      roz_5  \\\n",
       "0           0  40.363636  41.541667  43.416667  38.291667  23.681818   \n",
       "1           1  41.541667  43.416667  38.291667  23.681818  42.916667   \n",
       "2           2  43.416667  38.291667  23.681818  42.916667  35.750000   \n",
       "3           3  38.291667  23.681818  42.916667  35.750000  36.666667   \n",
       "4           4  23.681818  42.916667  35.750000  36.666667  35.375000   \n",
       "\n",
       "       roz_6  Tempreture   Humid  Wind Speed  Wind Direction Sin  \\\n",
       "0  42.916667        20.8  52.875       1.000             -0.3420   \n",
       "1  35.750000        21.3  47.500       1.125             -0.5000   \n",
       "2  36.666667        23.2  48.125       0.875              0.8660   \n",
       "3  35.375000        24.1  50.750       0.875             -0.9848   \n",
       "4  46.375000        24.1  49.375       2.000              1.0000   \n",
       "\n",
       "   Wind Direction COS  Pressure  RainFall  roz_pihbini        PM10  \n",
       "0        9.396926e-01   1014.34       0.0    35.750000   95.166667  \n",
       "1       -8.660254e-01   1013.30       0.0    36.666667   76.208333  \n",
       "2        5.000000e-01   1012.22       0.0    35.375000   87.833333  \n",
       "3       -1.736482e-01   1012.36       0.0    46.375000   73.166667  \n",
       "4        6.123234e-17   1011.30       0.4    49.208333  106.000000  "
      ]
     },
     "execution_count": 2,
     "metadata": {},
     "output_type": "execute_result"
    }
   ],
   "source": [
    "import pandas as pd\n",
    "data = pd.read_excel('o2.xlsx')\n",
    "data.head()"
   ]
  },
  {
   "cell_type": "code",
   "execution_count": 13,
   "metadata": {},
   "outputs": [],
   "source": [
    "X = data[['roz_aval','roz_dovom','roz_sevom','roz_4','roz_5','roz_6','Humid','Wind Direction Sin','Wind Direction COS','Pressure','RainFall']]\n",
    "X = X.values\n",
    "Y = data['roz_pihbini']\n",
    "Y = Y.values\n",
    "from sklearn.preprocessing import StandardScaler\n",
    "sc_X3 = StandardScaler()\n",
    "sc_y3 = StandardScaler()\n",
    "X3_3 = sc_X3.fit_transform(X)\n",
    "Y = Y.reshape(-1,1)\n",
    "Y3_3 = sc_y3.fit_transform(Y)\n",
    "from sklearn.decomposition import PCA as sklearnPCA\n",
    "sklearn_pca = sklearnPCA(n_components=10)\n",
    "X_sklearn = sklearn_pca.fit_transform(X3_3)"
   ]
  },
  {
   "cell_type": "code",
   "execution_count": 15,
   "metadata": {},
   "outputs": [],
   "source": [
    "from sklearn.model_selection import train_test_split\n",
    "x_train,x_test,y_train,y_test = train_test_split(X,Y, random_state=0 ,test_size=0.25)"
   ]
  },
  {
   "cell_type": "code",
   "execution_count": 100,
   "metadata": {},
   "outputs": [
    {
     "name": "stdout",
     "output_type": "stream",
     "text": [
      "WARNING:tensorflow:5 out of the last 13 calls to <function Model.make_test_function.<locals>.test_function at 0x000002B29CDEB268> triggered tf.function retracing. Tracing is expensive and the excessive number of tracings could be due to (1) creating @tf.function repeatedly in a loop, (2) passing tensors with different shapes, (3) passing Python objects instead of tensors. For (1), please define your @tf.function outside of the loop. For (2), @tf.function has experimental_relax_shapes=True option that relaxes argument shapes that can avoid unnecessary retracing. For (3), please refer to https://www.tensorflow.org/guide/function#controlling_retracing and https://www.tensorflow.org/api_docs/python/tf/function for  more details.\n",
      "3/3 [==============================] - 0s 7ms/step - loss: 1678.6694\n"
     ]
    },
    {
     "data": {
      "text/plain": [
       "1678.66943359375"
      ]
     },
     "execution_count": 100,
     "metadata": {},
     "output_type": "execute_result"
    }
   ],
   "source": [
    "import keras\n",
    "from keras.layers import Dense\n",
    "from keras.models import Sequential\n",
    "model = Sequential()\n",
    "model.add(Dense(14, activation='relu', input_dim=11))\n",
    "model.add(Dense(16,activation = 'relu'))\n",
    "model.add(Dense(1))\n",
    "model.compile(optimizer='adam', loss='mse')\n",
    "model.fit(x_train, y_train, epochs=2000,batch_size=len(x_train), verbose=0)\n",
    "model.evaluate(x_test,y_test)"
   ]
  },
  {
   "cell_type": "code",
   "execution_count": 90,
   "metadata": {},
   "outputs": [
    {
     "name": "stdout",
     "output_type": "stream",
     "text": [
      "WARNING:tensorflow:5 out of the last 13 calls to <function Model.make_predict_function.<locals>.predict_function at 0x000002B29E3B2B70> triggered tf.function retracing. Tracing is expensive and the excessive number of tracings could be due to (1) creating @tf.function repeatedly in a loop, (2) passing tensors with different shapes, (3) passing Python objects instead of tensors. For (1), please define your @tf.function outside of the loop. For (2), @tf.function has experimental_relax_shapes=True option that relaxes argument shapes that can avoid unnecessary retracing. For (3), please refer to https://www.tensorflow.org/guide/function#controlling_retracing and https://www.tensorflow.org/api_docs/python/tf/function for  more details.\n",
      "mse : 1389.501\n",
      "rmse : 37.276\n",
      "mae : 17.412\n"
     ]
    }
   ],
   "source": [
    "from sklearn.metrics import mean_squared_error\n",
    "from sklearn.metrics import mean_absolute_error\n",
    "import math\n",
    "y_new_inverse3 = model.predict(x_test)\n",
    "mse33 = mean_squared_error(y_test, y_new_inverse3)\n",
    "mae33 = mean_absolute_error(y_test, y_new_inverse3)\n",
    "rmse33 = math.sqrt(mse33)\n",
    "print('mse : %.3f'%mse33)\n",
    "print('rmse : %.3f'%rmse33)\n",
    "print('mae : %.3f'%mae33)"
   ]
  },
  {
   "cell_type": "code",
   "execution_count": 91,
   "metadata": {
    "scrolled": false
   },
   "outputs": [
    {
     "data": {
      "text/plain": [
       "(10, 200)"
      ]
     },
     "execution_count": 91,
     "metadata": {},
     "output_type": "execute_result"
    },
    {
     "data": {
      "image/png": "[encoded data removed]",
      "text/plain": [
       "<Figure size 432x288 with 1 Axes>"
      ]
     },
     "metadata": {
      "needs_background": "light"
     },
     "output_type": "display_data"
    }
   ],
   "source": [
    "import matplotlib\n",
    "import matplotlib.pyplot as plt\n",
    "from sklearn.metrics import median_absolute_error, r2_score\n",
    "plt.scatter(y_test,y_new_inverse3)\n",
    "plt.plot([0, 250], [0, 250], '--k')\n",
    "plt.ylabel('predicted')\n",
    "plt.xlabel('observed')\n",
    "plt.text(25,155,'MLP',fontsize=16)\n",
    "plt.text(20,140, r'$R^2$=%.2f'% (\n",
    "       r2_score(y_test,y_new_inverse3)),fontsize=12)\n",
    "plt.xlim([10, 200])\n",
    "plt.ylim([10, 200])"
   ]
  },
  {
   "cell_type": "code",
   "execution_count": 62,
   "metadata": {},
   "outputs": [
    {
     "name": "stdout",
     "output_type": "stream",
     "text": [
      "Saved model to disk\n"
     ]
    }
   ],
   "source": [
    "model_json1 = model.to_json()\n",
    "with open(\"MLP_PM25_with_AR_3.json\", \"w\") as json_file:\n",
    "    json_file.write(model_json1)\n",
    "# serialize weights to HDF5\n",
    "model.save_weights(\"MLP_PM25_with_AR_3.h5\")\n",
    "print(\"Saved model to disk\")"
   ]
  },
  {
   "cell_type": "markdown",
   "metadata": {},
   "source": [
    "# Random Forest"
   ]
  },
  {
   "cell_type": "code",
   "execution_count": 32,
   "metadata": {},
   "outputs": [
    {
     "name": "stdout",
     "output_type": "stream",
     "text": [
      "mse : 1500.230\n",
      "rmse : 38.733\n",
      "mae : 19.165\n"
     ]
    },
    {
     "name": "stderr",
     "output_type": "stream",
     "text": [
      "D:\\phyton\\lib\\site-packages\\ipykernel_launcher.py:6: DataConversionWarning: A column-vector y was passed when a 1d array was expected. Please change the shape of y to (n_samples,), for example using ravel().\n",
      "  \n"
     ]
    }
   ],
   "source": [
    "from sklearn.ensemble import RandomForestRegressor\n",
    "from sklearn.metrics import mean_squared_error\n",
    "from sklearn.metrics import mean_absolute_error\n",
    "import math\n",
    "regressor10 = RandomForestRegressor(n_estimators=59, random_state=0)\n",
    "regressor10.fit(x_train, y_train)\n",
    "y_new_inverse30 = regressor10.predict(x_test)\n",
    "mse33 = mean_squared_error(y_test, y_new_inverse30)\n",
    "mae33 = mean_absolute_error(y_test, y_new_inverse30)\n",
    "rmse33 = math.sqrt(mse33)\n",
    "print('mse : %.3f'%mse33)\n",
    "print('rmse : %.3f'%rmse33)\n",
    "print('mae : %.3f'%mae33)"
   ]
  },
  {
   "cell_type": "code",
   "execution_count": 33,
   "metadata": {},
   "outputs": [
    {
     "data": {
      "text/plain": [
       "(10, 200)"
      ]
     },
     "execution_count": 33,
     "metadata": {},
     "output_type": "execute_result"
    },
    {
     "data": {
      "image/png": "[encoded data removed]",
      "text/plain": [
       "<Figure size 432x288 with 1 Axes>"
      ]
     },
     "metadata": {
      "needs_background": "light"
     },
     "output_type": "display_data"
    }
   ],
   "source": [
    "import matplotlib\n",
    "import matplotlib.pyplot as plt\n",
    "from sklearn.metrics import median_absolute_error, r2_score\n",
    "plt.scatter(y_test,y_new_inverse30)\n",
    "plt.plot([0, 250], [0, 250], '--k')\n",
    "plt.ylabel('predicted')\n",
    "plt.xlabel('observed')\n",
    "plt.text(25,155,'Random Forest',fontsize=16)\n",
    "plt.text(45,140, r'$R^2$=%.2f'% (\n",
    "       r2_score(y_test,y_new_inverse30)),fontsize=12)\n",
    "plt.xlim([10, 200])\n",
    "plt.ylim([10, 200])"
   ]
  },
  {
   "cell_type": "code",
   "execution_count": 34,
   "metadata": {},
   "outputs": [
    {
     "name": "stdout",
     "output_type": "stream",
     "text": [
      "mse : 529.657\n",
      "rmse : 23.014\n",
      "mae : 15.967\n"
     ]
    }
   ],
   "source": [
    "from sklearn.linear_model import LinearRegression\n",
    "from sklearn.metrics import mean_squared_error\n",
    "from sklearn.metrics import mean_absolute_error\n",
    "import math\n",
    "sklinreg = LinearRegression()\n",
    "sklinreg.fit(x_train, y_train)\n",
    "y_ord_pred = sklinreg.predict(x_test)\n",
    "mse33 = mean_squared_error(y_test, y_ord_pred)\n",
    "mae33 = mean_absolute_error(y_test, y_ord_pred)\n",
    "rmse33 = math.sqrt(mse33)\n",
    "print('mse : %.3f'%mse33)\n",
    "print('rmse : %.3f'%rmse33)\n",
    "print('mae : %.3f'%mae33)"
   ]
  },
  {
   "cell_type": "code",
   "execution_count": 38,
   "metadata": {},
   "outputs": [
    {
     "data": {
      "text/plain": [
       "(10, 200)"
      ]
     },
     "execution_count": 38,
     "metadata": {},
     "output_type": "execute_result"
    },
    {
     "data": {
      "image/png": "[encoded data removed]",
      "text/plain": [
       "<Figure size 432x288 with 1 Axes>"
      ]
     },
     "metadata": {
      "needs_background": "light"
     },
     "output_type": "display_data"
    }
   ],
   "source": [
    "import matplotlib\n",
    "import matplotlib.pyplot as plt\n",
    "from sklearn.metrics import median_absolute_error, r2_score\n",
    "plt.scatter(y_test,y_ord_pred)\n",
    "plt.plot([0, 250], [0, 250], '--k')\n",
    "plt.ylabel('predicted')\n",
    "plt.xlabel('observed')\n",
    "plt.text(25,155,'MLR',fontsize=16)\n",
    "plt.text(20,140, r'$R^2$=%.2f'% (\n",
    "       r2_score(y_ord_pred,y_test)),fontsize=12)\n",
    "plt.xlim([10, 200])\n",
    "plt.ylim([10, 200])"
   ]
  },
  {
   "cell_type": "code",
   "execution_count": null,
   "metadata": {},
   "outputs": [],
   "source": []
  },
  {
   "cell_type": "code",
   "execution_count": null,
   "metadata": {},
   "outputs": [],
   "source": []
  }
 ],
 "metadata": {
  "kernelspec": {
   "display_name": "Python 3",
   "language": "python",
   "name": "python3"
  },
  "language_info": {
   "codemirror_mode": {
    "name": "ipython",
    "version": 3
   },
   "file_extension": ".py",
   "mimetype": "text/x-python",
   "name": "python",
   "nbconvert_exporter": "python",
   "pygments_lexer": "ipython3",
   "version": "3.7.3"
  }
 },
 "nbformat": 4,
 "nbformat_minor": 2
}
