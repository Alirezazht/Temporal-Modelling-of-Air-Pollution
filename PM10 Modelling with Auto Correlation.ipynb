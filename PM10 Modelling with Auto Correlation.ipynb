{
 "cells": [
  {
   "cell_type": "code",
   "execution_count": 1,
   "metadata": {
    "scrolled": false
   },
   "outputs": [
    {
     "data": {
      "text/html": [
       "<div>\n",
       "<style scoped>\n",
       "    .dataframe tbody tr th:only-of-type {\n",
       "        vertical-align: middle;\n",
       "    }\n",
       "\n",
       "    .dataframe tbody tr th {\n",
       "        vertical-align: top;\n",
       "    }\n",
       "\n",
       "    .dataframe thead th {\n",
       "        text-align: right;\n",
       "    }\n",
       "</style>\n",
       "<table border=\"1\" class=\"dataframe\">\n",
       "  <thead>\n",
       "    <tr style=\"text-align: right;\">\n",
       "      <th></th>\n",
       "      <th>Unnamed: 0</th>\n",
       "      <th>roz_aval</th>\n",
       "      <th>roz_dovom</th>\n",
       "      <th>roz_sevom</th>\n",
       "      <th>Tempreture</th>\n",
       "      <th>Humid</th>\n",
       "      <th>Wind Speed</th>\n",
       "      <th>Wind Direction Sin</th>\n",
       "      <th>Wind Direction COS</th>\n",
       "      <th>Pressure</th>\n",
       "      <th>RainFall</th>\n",
       "      <th>roz_pihbini</th>\n",
       "      <th>TT</th>\n",
       "    </tr>\n",
       "  </thead>\n",
       "  <tbody>\n",
       "    <tr>\n",
       "      <th>0</th>\n",
       "      <td>0</td>\n",
       "      <td>133.916667</td>\n",
       "      <td>147.833333</td>\n",
       "      <td>157.958333</td>\n",
       "      <td>16.6</td>\n",
       "      <td>91.250</td>\n",
       "      <td>2.875</td>\n",
       "      <td>0.9397</td>\n",
       "      <td>-0.342020</td>\n",
       "      <td>1008.66</td>\n",
       "      <td>22.0</td>\n",
       "      <td>48.708333</td>\n",
       "      <td>38.291667</td>\n",
       "    </tr>\n",
       "    <tr>\n",
       "      <th>1</th>\n",
       "      <td>1</td>\n",
       "      <td>147.833333</td>\n",
       "      <td>157.958333</td>\n",
       "      <td>48.708333</td>\n",
       "      <td>18.9</td>\n",
       "      <td>70.125</td>\n",
       "      <td>1.875</td>\n",
       "      <td>-0.5000</td>\n",
       "      <td>0.866025</td>\n",
       "      <td>1007.70</td>\n",
       "      <td>1.0</td>\n",
       "      <td>47.541667</td>\n",
       "      <td>23.681818</td>\n",
       "    </tr>\n",
       "    <tr>\n",
       "      <th>2</th>\n",
       "      <td>2</td>\n",
       "      <td>157.958333</td>\n",
       "      <td>48.708333</td>\n",
       "      <td>47.541667</td>\n",
       "      <td>20.0</td>\n",
       "      <td>60.750</td>\n",
       "      <td>1.125</td>\n",
       "      <td>-0.8660</td>\n",
       "      <td>0.500000</td>\n",
       "      <td>1012.65</td>\n",
       "      <td>0.0</td>\n",
       "      <td>95.166667</td>\n",
       "      <td>42.916667</td>\n",
       "    </tr>\n",
       "    <tr>\n",
       "      <th>3</th>\n",
       "      <td>3</td>\n",
       "      <td>48.708333</td>\n",
       "      <td>47.541667</td>\n",
       "      <td>95.166667</td>\n",
       "      <td>20.8</td>\n",
       "      <td>52.875</td>\n",
       "      <td>1.000</td>\n",
       "      <td>-0.3420</td>\n",
       "      <td>0.939693</td>\n",
       "      <td>1014.34</td>\n",
       "      <td>0.0</td>\n",
       "      <td>76.208333</td>\n",
       "      <td>35.750000</td>\n",
       "    </tr>\n",
       "    <tr>\n",
       "      <th>4</th>\n",
       "      <td>4</td>\n",
       "      <td>47.541667</td>\n",
       "      <td>95.166667</td>\n",
       "      <td>76.208333</td>\n",
       "      <td>21.3</td>\n",
       "      <td>47.500</td>\n",
       "      <td>1.125</td>\n",
       "      <td>-0.5000</td>\n",
       "      <td>-0.866025</td>\n",
       "      <td>1013.30</td>\n",
       "      <td>0.0</td>\n",
       "      <td>87.833333</td>\n",
       "      <td>36.666667</td>\n",
       "    </tr>\n",
       "  </tbody>\n",
       "</table>\n",
       "</div>"
      ],
      "text/plain": [
       "   Unnamed: 0    roz_aval   roz_dovom   roz_sevom  Tempreture   Humid  \\\n",
       "0           0  133.916667  147.833333  157.958333        16.6  91.250   \n",
       "1           1  147.833333  157.958333   48.708333        18.9  70.125   \n",
       "2           2  157.958333   48.708333   47.541667        20.0  60.750   \n",
       "3           3   48.708333   47.541667   95.166667        20.8  52.875   \n",
       "4           4   47.541667   95.166667   76.208333        21.3  47.500   \n",
       "\n",
       "   Wind Speed  Wind Direction Sin  Wind Direction COS  Pressure  RainFall  \\\n",
       "0       2.875              0.9397           -0.342020   1008.66      22.0   \n",
       "1       1.875             -0.5000            0.866025   1007.70       1.0   \n",
       "2       1.125             -0.8660            0.500000   1012.65       0.0   \n",
       "3       1.000             -0.3420            0.939693   1014.34       0.0   \n",
       "4       1.125             -0.5000           -0.866025   1013.30       0.0   \n",
       "\n",
       "   roz_pihbini         TT  \n",
       "0    48.708333  38.291667  \n",
       "1    47.541667  23.681818  \n",
       "2    95.166667  42.916667  \n",
       "3    76.208333  35.750000  \n",
       "4    87.833333  36.666667  "
      ]
     },
     "execution_count": 1,
     "metadata": {},
     "output_type": "execute_result"
    }
   ],
   "source": [
    "import pandas as pd\n",
    "data = pd.read_excel('PM10_with_AR_sample.xlsx')\n",
    "data.head()"
   ]
  },
  {
   "cell_type": "code",
   "execution_count": 65,
   "metadata": {},
   "outputs": [],
   "source": [
    "X = data[['roz_aval','roz_dovom','roz_sevom','TT','Humid','Wind Direction Sin','Wind Direction COS','Pressure','RainFall']]\n",
    "X = X.values\n",
    "Y = data['roz_pihbini']\n",
    "Y = Y.values\n",
    "from sklearn.preprocessing import StandardScaler\n",
    "sc_X3 = StandardScaler()\n",
    "sc_y3 = StandardScaler()\n",
    "X3_3 = sc_X3.fit_transform(X)\n",
    "Y = Y.reshape(-1,1)\n",
    "Y3_3 = sc_y3.fit_transform(Y)\n",
    "from sklearn.decomposition import PCA as sklearnPCA\n",
    "sklearn_pca = sklearnPCA(n_components=8)\n",
    "X_sklearn = sklearn_pca.fit_transform(X3_3)\n",
    "\n",
    "\n"
   ]
  },
  {
   "cell_type": "code",
   "execution_count": 66,
   "metadata": {},
   "outputs": [],
   "source": [
    "from sklearn.model_selection import train_test_split\n",
    "x_train,x_test,y_train,y_test = train_test_split(X,Y, random_state=0 ,test_size=0.2)"
   ]
  },
  {
   "cell_type": "code",
   "execution_count": 131,
   "metadata": {},
   "outputs": [
    {
     "name": "stdout",
     "output_type": "stream",
     "text": [
      "WARNING:tensorflow:5 out of the last 13 calls to <function Model.make_test_function.<locals>.test_function at 0x0000025F683C0268> triggered tf.function retracing. Tracing is expensive and the excessive number of tracings could be due to (1) creating @tf.function repeatedly in a loop, (2) passing tensors with different shapes, (3) passing Python objects instead of tensors. For (1), please define your @tf.function outside of the loop. For (2), @tf.function has experimental_relax_shapes=True option that relaxes argument shapes that can avoid unnecessary retracing. For (3), please refer to https://www.tensorflow.org/guide/function#controlling_retracing and https://www.tensorflow.org/api_docs/python/tf/function for  more details.\n",
      "3/3 [==============================] - 0s 0s/step - loss: 8602.8232\n"
     ]
    },
    {
     "data": {
      "text/plain": [
       "8602.8232421875"
      ]
     },
     "execution_count": 131,
     "metadata": {},
     "output_type": "execute_result"
    }
   ],
   "source": [
    "import keras\n",
    "from keras.layers import Dense\n",
    "from keras.models import Sequential\n",
    "model = Sequential()\n",
    "model.add(Dense(16, activation='relu', input_dim=9))\n",
    "model.add(Dense(16,activation = 'relu'))\n",
    "model.add(Dense(1))\n",
    "model.compile(optimizer='adam', loss='mse')\n",
    "model.fit(x_train, y_train, epochs=2000,batch_size=len(x_train), verbose=0)\n",
    "model.evaluate(x_test,y_test)"
   ]
  },
  {
   "cell_type": "code",
   "execution_count": 106,
   "metadata": {
    "scrolled": true
   },
   "outputs": [
    {
     "name": "stdout",
     "output_type": "stream",
     "text": [
      "WARNING:tensorflow:5 out of the last 13 calls to <function Model.make_predict_function.<locals>.predict_function at 0x0000025F64D2ABF8> triggered tf.function retracing. Tracing is expensive and the excessive number of tracings could be due to (1) creating @tf.function repeatedly in a loop, (2) passing tensors with different shapes, (3) passing Python objects instead of tensors. For (1), please define your @tf.function outside of the loop. For (2), @tf.function has experimental_relax_shapes=True option that relaxes argument shapes that can avoid unnecessary retracing. For (3), please refer to https://www.tensorflow.org/guide/function#controlling_retracing and https://www.tensorflow.org/api_docs/python/tf/function for  more details.\n",
      "mse : 4704.655\n",
      "rmse : 68.590\n",
      "mae : 35.569\n"
     ]
    }
   ],
   "source": [
    "from sklearn.metrics import mean_squared_error\n",
    "from sklearn.metrics import mean_absolute_error\n",
    "import math\n",
    "y_new_inverse3 = model.predict(x_test)\n",
    "mse33 = mean_squared_error(y_test, y_new_inverse3)\n",
    "mae33 = mean_absolute_error(y_test, y_new_inverse3)\n",
    "rmse33 = math.sqrt(mse33)\n",
    "print('mse : %.3f'%mse33)\n",
    "print('rmse : %.3f'%rmse33)\n",
    "print('mae : %.3f'%mae33)"
   ]
  },
  {
   "cell_type": "code",
   "execution_count": 107,
   "metadata": {
    "scrolled": true
   },
   "outputs": [
    {
     "data": {
      "text/plain": [
       "(10, 200)"
      ]
     },
     "execution_count": 107,
     "metadata": {},
     "output_type": "execute_result"
    },
    {
     "data": {
      "image/png": "[encoded data removed]",
      "text/plain": [
       "<Figure size 432x288 with 1 Axes>"
      ]
     },
     "metadata": {
      "needs_background": "light"
     },
     "output_type": "display_data"
    }
   ],
   "source": [
    "import matplotlib\n",
    "import matplotlib.pyplot as plt\n",
    "from sklearn.metrics import median_absolute_error, r2_score\n",
    "plt.scatter(y_test,y_new_inverse3)\n",
    "plt.plot([0, 250], [0, 250], '--k')\n",
    "plt.ylabel('predicted')\n",
    "plt.xlabel('observed')\n",
    "plt.text(25,155,'MLP',fontsize=16)\n",
    "plt.text(20,140, r'$R^2$=%.2f'% (\n",
    "       r2_score(y_test,y_new_inverse3)),fontsize=12)\n",
    "plt.xlim([10, 200])\n",
    "plt.ylim([10, 200])"
   ]
  },
  {
   "cell_type": "code",
   "execution_count": 108,
   "metadata": {},
   "outputs": [
    {
     "name": "stdout",
     "output_type": "stream",
     "text": [
      "Saved model to disk\n"
     ]
    }
   ],
   "source": [
    "model_json1 = model.to_json()\n",
    "with open(\"MLP_PM10_with_Autocorelation_2.json\", \"w\") as json_file:\n",
    "    json_file.write(model_json1)\n",
    "# serialize weights to HDF5\n",
    "model.save_weights(\"MLP_PM10_with_Autocorelation_2.h5\")\n",
    "print(\"Saved model to disk\")"
   ]
  },
  {
   "cell_type": "markdown",
   "metadata": {},
   "source": [
    "# Random Forest"
   ]
  },
  {
   "cell_type": "code",
   "execution_count": 88,
   "metadata": {
    "scrolled": true
   },
   "outputs": [
    {
     "name": "stdout",
     "output_type": "stream",
     "text": [
      "mse : 5240.154\n",
      "rmse : 72.389\n",
      "mae : 34.333\n"
     ]
    },
    {
     "name": "stderr",
     "output_type": "stream",
     "text": [
      "D:\\phyton\\lib\\site-packages\\ipykernel_launcher.py:6: DataConversionWarning: A column-vector y was passed when a 1d array was expected. Please change the shape of y to (n_samples,), for example using ravel().\n",
      "  \n"
     ]
    }
   ],
   "source": [
    "from sklearn.ensemble import RandomForestRegressor\n",
    "from sklearn.metrics import mean_squared_error\n",
    "from sklearn.metrics import mean_absolute_error\n",
    "import math\n",
    "regressor10 = RandomForestRegressor(n_estimators=55, random_state=0)\n",
    "regressor10.fit(x_train, y_train)\n",
    "y_new_inverse30 = regressor10.predict(x_test)\n",
    "mse33 = mean_squared_error(y_test, y_new_inverse30)\n",
    "mae33 = mean_absolute_error(y_test, y_new_inverse30)\n",
    "rmse33 = math.sqrt(mse33)\n",
    "print('mse : %.3f'%mse33)\n",
    "print('rmse : %.3f'%rmse33)\n",
    "print('mae : %.3f'%mae33)"
   ]
  },
  {
   "cell_type": "code",
   "execution_count": 95,
   "metadata": {},
   "outputs": [
    {
     "data": {
      "text/plain": [
       "(10, 200)"
      ]
     },
     "execution_count": 95,
     "metadata": {},
     "output_type": "execute_result"
    },
    {
     "data": {
      "image/png": "[encoded data removed]",
      "text/plain": [
       "<Figure size 432x288 with 1 Axes>"
      ]
     },
     "metadata": {
      "needs_background": "light"
     },
     "output_type": "display_data"
    }
   ],
   "source": [
    "import matplotlib\n",
    "import matplotlib.pyplot as plt\n",
    "from sklearn.metrics import median_absolute_error, r2_score\n",
    "plt.scatter(y_test,y_new_inverse30)\n",
    "plt.plot([0, 250], [0, 250], '--k')\n",
    "plt.ylabel('predicted')\n",
    "plt.xlabel('observed')\n",
    "plt.text(25,140,'Random Forest',fontsize=16)\n",
    "plt.text(45,120, r'$R^2$=%.2f'% (\n",
    "       r2_score(y_test,y_new_inverse30)),fontsize=12)\n",
    "plt.xlim([10, 200])\n",
    "plt.ylim([10, 200])"
   ]
  },
  {
   "cell_type": "code",
   "execution_count": 53,
   "metadata": {},
   "outputs": [
    {
     "name": "stdout",
     "output_type": "stream",
     "text": [
      "mse : 7171.258\n",
      "rmse : 84.683\n",
      "mae : 46.741\n"
     ]
    }
   ],
   "source": [
    "from sklearn.linear_model import LinearRegression\n",
    "from sklearn.metrics import mean_squared_error\n",
    "from sklearn.metrics import mean_absolute_error\n",
    "import math\n",
    "sklinreg = LinearRegression()\n",
    "sklinreg.fit(x_train, y_train)\n",
    "y_ord_pred = sklinreg.predict(x_test)\n",
    "mse33 = mean_squared_error(y_test, y_ord_pred)\n",
    "mae33 = mean_absolute_error(y_test, y_ord_pred)\n",
    "rmse33 = math.sqrt(mse33)\n",
    "print('mse : %.3f'%mse33)\n",
    "print('rmse : %.3f'%rmse33)\n",
    "print('mae : %.3f'%mae33)"
   ]
  },
  {
   "cell_type": "code",
   "execution_count": 55,
   "metadata": {},
   "outputs": [
    {
     "data": {
      "text/plain": [
       "(10, 200)"
      ]
     },
     "execution_count": 55,
     "metadata": {},
     "output_type": "execute_result"
    },
    {
     "data": {
      "image/png": "[encoded data removed]",
      "text/plain": [
       "<Figure size 432x288 with 1 Axes>"
      ]
     },
     "metadata": {
      "needs_background": "light"
     },
     "output_type": "display_data"
    }
   ],
   "source": [
    "import matplotlib\n",
    "import matplotlib.pyplot as plt\n",
    "from sklearn.metrics import median_absolute_error, r2_score\n",
    "plt.scatter(y_test,y_ord_pred)\n",
    "plt.plot([0, 250], [0, 250], '--k')\n",
    "plt.ylabel('predicted')\n",
    "plt.xlabel('observed')\n",
    "plt.text(25,155,'MLR',fontsize=16)\n",
    "plt.text(20,140, r'$R^2$=%.2f'% (\n",
    "       r2_score(y_test,y_ord_pred)),fontsize=12)\n",
    "plt.xlim([10, 200])\n",
    "plt.ylim([10, 200])"
   ]
  },
  {
   "cell_type": "code",
   "execution_count": 194,
   "metadata": {},
   "outputs": [
    {
     "data": {
      "text/plain": [
       "510.0"
      ]
     },
     "execution_count": 194,
     "metadata": {},
     "output_type": "execute_result"
    }
   ],
   "source": [
    "r = data['roz_pihbini']\n",
    "max(r)"
   ]
  },
  {
   "cell_type": "code",
   "execution_count": null,
   "metadata": {},
   "outputs": [],
   "source": []
  }
 ],
 "metadata": {
  "kernelspec": {
   "display_name": "Python 3",
   "language": "python",
   "name": "python3"
  },
  "language_info": {
   "codemirror_mode": {
    "name": "ipython",
    "version": 3
   },
   "file_extension": ".py",
   "mimetype": "text/x-python",
   "name": "python",
   "nbconvert_exporter": "python",
   "pygments_lexer": "ipython3",
   "version": "3.7.3"
  }
 },
 "nbformat": 4,
 "nbformat_minor": 2
}
