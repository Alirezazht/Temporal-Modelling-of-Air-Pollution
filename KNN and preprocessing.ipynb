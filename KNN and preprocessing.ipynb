{
 "cells": [
  {
   "cell_type": "markdown",
   "metadata": {},
   "source": [
    "# PM10"
   ]
  },
  {
   "cell_type": "code",
   "execution_count": 4,
   "metadata": {},
   "outputs": [
    {
     "data": {
      "text/html": [
       "<div>\n",
       "<style scoped>\n",
       "    .dataframe tbody tr th:only-of-type {\n",
       "        vertical-align: middle;\n",
       "    }\n",
       "\n",
       "    .dataframe tbody tr th {\n",
       "        vertical-align: top;\n",
       "    }\n",
       "\n",
       "    .dataframe thead th {\n",
       "        text-align: right;\n",
       "    }\n",
       "</style>\n",
       "<table border=\"1\" class=\"dataframe\">\n",
       "  <thead>\n",
       "    <tr style=\"text-align: right;\">\n",
       "      <th></th>\n",
       "      <th>PM10</th>\n",
       "      <th>Tempreture</th>\n",
       "      <th>Humid</th>\n",
       "      <th>Wind Speed</th>\n",
       "      <th>Wind Direction Sin</th>\n",
       "      <th>Wind Direction COS</th>\n",
       "      <th>Pressure</th>\n",
       "      <th>RainFall</th>\n",
       "    </tr>\n",
       "  </thead>\n",
       "  <tbody>\n",
       "    <tr>\n",
       "      <th>0</th>\n",
       "      <td>133.916667</td>\n",
       "      <td>19.0</td>\n",
       "      <td>47.125</td>\n",
       "      <td>1.87500</td>\n",
       "      <td>-0.9397</td>\n",
       "      <td>-0.342020</td>\n",
       "      <td>1011.76</td>\n",
       "      <td>0.00</td>\n",
       "    </tr>\n",
       "    <tr>\n",
       "      <th>1</th>\n",
       "      <td>147.833333</td>\n",
       "      <td>20.7</td>\n",
       "      <td>45.000</td>\n",
       "      <td>2.62500</td>\n",
       "      <td>0.7660</td>\n",
       "      <td>-0.642788</td>\n",
       "      <td>1012.04</td>\n",
       "      <td>0.10</td>\n",
       "    </tr>\n",
       "    <tr>\n",
       "      <th>2</th>\n",
       "      <td>157.958333</td>\n",
       "      <td>19.9</td>\n",
       "      <td>54.375</td>\n",
       "      <td>5.42857</td>\n",
       "      <td>0.4999</td>\n",
       "      <td>-0.866025</td>\n",
       "      <td>1007.88</td>\n",
       "      <td>0.61</td>\n",
       "    </tr>\n",
       "    <tr>\n",
       "      <th>3</th>\n",
       "      <td>48.708333</td>\n",
       "      <td>16.6</td>\n",
       "      <td>91.250</td>\n",
       "      <td>2.87500</td>\n",
       "      <td>0.9397</td>\n",
       "      <td>-0.342020</td>\n",
       "      <td>1008.66</td>\n",
       "      <td>22.00</td>\n",
       "    </tr>\n",
       "    <tr>\n",
       "      <th>4</th>\n",
       "      <td>47.541667</td>\n",
       "      <td>18.9</td>\n",
       "      <td>70.125</td>\n",
       "      <td>1.87500</td>\n",
       "      <td>-0.5000</td>\n",
       "      <td>0.866025</td>\n",
       "      <td>1007.70</td>\n",
       "      <td>1.00</td>\n",
       "    </tr>\n",
       "  </tbody>\n",
       "</table>\n",
       "</div>"
      ],
      "text/plain": [
       "         PM10  Tempreture   Humid  Wind Speed  Wind Direction Sin  \\\n",
       "0  133.916667        19.0  47.125     1.87500             -0.9397   \n",
       "1  147.833333        20.7  45.000     2.62500              0.7660   \n",
       "2  157.958333        19.9  54.375     5.42857              0.4999   \n",
       "3   48.708333        16.6  91.250     2.87500              0.9397   \n",
       "4   47.541667        18.9  70.125     1.87500             -0.5000   \n",
       "\n",
       "   Wind Direction COS  Pressure  RainFall  \n",
       "0           -0.342020   1011.76      0.00  \n",
       "1           -0.642788   1012.04      0.10  \n",
       "2           -0.866025   1007.88      0.61  \n",
       "3           -0.342020   1008.66     22.00  \n",
       "4            0.866025   1007.70      1.00  "
      ]
     },
     "execution_count": 4,
     "metadata": {},
     "output_type": "execute_result"
    }
   ],
   "source": [
    "import pandas as pd\n",
    "data = pd.read_excel('PM10.xlsx')\n",
    "\n",
    "data.head()"
   ]
  },
  {
   "cell_type": "code",
   "execution_count": 2,
   "metadata": {},
   "outputs": [],
   "source": [
    "from sklearn.model_selection import train_test_split\n",
    "from sklearn.ensemble import RandomForestRegressor\n",
    "from sklearn.metrics import mean_squared_error\n",
    "import numpy as np\n",
    "from sklearn.impute import KNNImputer\n",
    "from math import sqrt\n",
    "rmse = lambda y, yhat: np.sqrt(mean_squared_error(y, yhat))"
   ]
  },
  {
   "cell_type": "code",
   "execution_count": 3,
   "metadata": {},
   "outputs": [],
   "source": [
    "def optimize_k(data, target):\n",
    "    errors = []\n",
    "    for k in range(1, 20, 2):\n",
    "        imputer = KNNImputer(n_neighbors=k)\n",
    "        imputed = imputer.fit_transform(data)\n",
    "        df_imputed = pd.DataFrame(imputed, columns=data.columns)\n",
    "        \n",
    "        X = df_imputed.drop(target, axis=1)\n",
    "        y = df_imputed[target]\n",
    "        X_train, X_test, y_train, y_test = train_test_split(X, y, test_size=0.2, random_state=42)\n",
    "\n",
    "        model = RandomForestRegressor(n_estimators=10, random_state=0)\n",
    "        model.fit(X_train, y_train)\n",
    "        preds = model.predict(X_test)\n",
    "        error = rmse(y_test, preds)\n",
    "        errors.append({'K': k, 'RMSE': error})\n",
    "        \n",
    "    return errors"
   ]
  },
  {
   "cell_type": "code",
   "execution_count": 4,
   "metadata": {
    "scrolled": true
   },
   "outputs": [
    {
     "data": {
      "text/plain": [
       "[{'K': 1, 'RMSE': 95.83549279459801},\n",
       " {'K': 3, 'RMSE': 85.05935649255721},\n",
       " {'K': 5, 'RMSE': 84.34453368925482},\n",
       " {'K': 7, 'RMSE': 84.75359639788478},\n",
       " {'K': 9, 'RMSE': 83.6283244428201},\n",
       " {'K': 11, 'RMSE': 82.65099695247478},\n",
       " {'K': 13, 'RMSE': 83.6051716640284},\n",
       " {'K': 15, 'RMSE': 83.42420740480875},\n",
       " {'K': 17, 'RMSE': 83.48188703936003},\n",
       " {'K': 19, 'RMSE': 83.59384522700275}]"
      ]
     },
     "execution_count": 4,
     "metadata": {},
     "output_type": "execute_result"
    }
   ],
   "source": [
    "k_errors = optimize_k(data, target='PM10')\n",
    "k_errors"
   ]
  },
  {
   "cell_type": "code",
   "execution_count": 5,
   "metadata": {},
   "outputs": [],
   "source": [
    "from sklearn.impute import KNNImputer\n",
    "\n",
    "imputer = KNNImputer(n_neighbors=11)\n",
    "imputed = imputer.fit_transform(data)\n",
    "df_imputed = pd.DataFrame(imputed, columns=data.columns)"
   ]
  },
  {
   "cell_type": "code",
   "execution_count": 6,
   "metadata": {},
   "outputs": [],
   "source": [
    "df_imputed.to_excel('PM10_process.xlsx')"
   ]
  },
  {
   "cell_type": "markdown",
   "metadata": {},
   "source": [
    "# PM2.5"
   ]
  },
  {
   "cell_type": "code",
   "execution_count": 7,
   "metadata": {},
   "outputs": [
    {
     "data": {
      "text/html": [
       "<div>\n",
       "<style scoped>\n",
       "    .dataframe tbody tr th:only-of-type {\n",
       "        vertical-align: middle;\n",
       "    }\n",
       "\n",
       "    .dataframe tbody tr th {\n",
       "        vertical-align: top;\n",
       "    }\n",
       "\n",
       "    .dataframe thead th {\n",
       "        text-align: right;\n",
       "    }\n",
       "</style>\n",
       "<table border=\"1\" class=\"dataframe\">\n",
       "  <thead>\n",
       "    <tr style=\"text-align: right;\">\n",
       "      <th></th>\n",
       "      <th>TT</th>\n",
       "      <th>Tempreture</th>\n",
       "      <th>Humid</th>\n",
       "      <th>Wind Speed</th>\n",
       "      <th>Wind Direction Sin</th>\n",
       "      <th>Wind Direction COS</th>\n",
       "      <th>Pressure</th>\n",
       "      <th>RainFall</th>\n",
       "    </tr>\n",
       "  </thead>\n",
       "  <tbody>\n",
       "    <tr>\n",
       "      <th>0</th>\n",
       "      <td>40.363636</td>\n",
       "      <td>19.0</td>\n",
       "      <td>47.125</td>\n",
       "      <td>1.87500</td>\n",
       "      <td>-0.9397</td>\n",
       "      <td>-0.342020</td>\n",
       "      <td>1011.76</td>\n",
       "      <td>0.00</td>\n",
       "    </tr>\n",
       "    <tr>\n",
       "      <th>1</th>\n",
       "      <td>41.541667</td>\n",
       "      <td>20.7</td>\n",
       "      <td>45.000</td>\n",
       "      <td>2.62500</td>\n",
       "      <td>0.7660</td>\n",
       "      <td>-0.642788</td>\n",
       "      <td>1012.04</td>\n",
       "      <td>0.10</td>\n",
       "    </tr>\n",
       "    <tr>\n",
       "      <th>2</th>\n",
       "      <td>43.416667</td>\n",
       "      <td>19.9</td>\n",
       "      <td>54.375</td>\n",
       "      <td>5.42857</td>\n",
       "      <td>0.4999</td>\n",
       "      <td>-0.866025</td>\n",
       "      <td>1007.88</td>\n",
       "      <td>0.61</td>\n",
       "    </tr>\n",
       "    <tr>\n",
       "      <th>3</th>\n",
       "      <td>38.291667</td>\n",
       "      <td>16.6</td>\n",
       "      <td>91.250</td>\n",
       "      <td>2.87500</td>\n",
       "      <td>0.9397</td>\n",
       "      <td>-0.342020</td>\n",
       "      <td>1008.66</td>\n",
       "      <td>22.00</td>\n",
       "    </tr>\n",
       "    <tr>\n",
       "      <th>4</th>\n",
       "      <td>23.681818</td>\n",
       "      <td>18.9</td>\n",
       "      <td>70.125</td>\n",
       "      <td>1.87500</td>\n",
       "      <td>-0.5000</td>\n",
       "      <td>0.866025</td>\n",
       "      <td>1007.70</td>\n",
       "      <td>1.00</td>\n",
       "    </tr>\n",
       "  </tbody>\n",
       "</table>\n",
       "</div>"
      ],
      "text/plain": [
       "          TT  Tempreture   Humid  Wind Speed  Wind Direction Sin  \\\n",
       "0  40.363636        19.0  47.125     1.87500             -0.9397   \n",
       "1  41.541667        20.7  45.000     2.62500              0.7660   \n",
       "2  43.416667        19.9  54.375     5.42857              0.4999   \n",
       "3  38.291667        16.6  91.250     2.87500              0.9397   \n",
       "4  23.681818        18.9  70.125     1.87500             -0.5000   \n",
       "\n",
       "   Wind Direction COS  Pressure  RainFall  \n",
       "0           -0.342020   1011.76      0.00  \n",
       "1           -0.642788   1012.04      0.10  \n",
       "2           -0.866025   1007.88      0.61  \n",
       "3           -0.342020   1008.66     22.00  \n",
       "4            0.866025   1007.70      1.00  "
      ]
     },
     "execution_count": 7,
     "metadata": {},
     "output_type": "execute_result"
    }
   ],
   "source": [
    "import pandas as pd\n",
    "data1 = pd.read_excel('PM25.xlsx')\n",
    "\n",
    "data1.head()"
   ]
  },
  {
   "cell_type": "code",
   "execution_count": 8,
   "metadata": {},
   "outputs": [],
   "source": [
    "from sklearn.model_selection import train_test_split\n",
    "from sklearn.ensemble import RandomForestRegressor\n",
    "from sklearn.metrics import mean_squared_error\n",
    "import numpy as np\n",
    "from sklearn.impute import KNNImputer\n",
    "from math import sqrt\n",
    "rmse1 = lambda y1, yhat1: np.sqrt(mean_squared_error(y1, yhat1))"
   ]
  },
  {
   "cell_type": "code",
   "execution_count": 9,
   "metadata": {},
   "outputs": [],
   "source": [
    "def optimize_k1(data1, target1):\n",
    "    errors1 = []\n",
    "    for k1 in range(1, 20, 2):\n",
    "        imputer1 = KNNImputer(n_neighbors=k1)\n",
    "        imputed1 = imputer1.fit_transform(data1)\n",
    "        df_imputed1 = pd.DataFrame(imputed1, columns=data1.columns)\n",
    "        \n",
    "        X1 = df_imputed1.drop(target1, axis=1)\n",
    "        y1 = df_imputed1[target1]\n",
    "        X_train1, X_test1, y_train1, y_test1 = train_test_split(X1, y1, test_size=0.2, random_state=42)\n",
    "\n",
    "        model1 = RandomForestRegressor(n_estimators=5, random_state=0)\n",
    "        model1.fit(X_train1, y_train1)\n",
    "        preds1 = model1.predict(X_test1)\n",
    "        error1 = rmse1(y_test1, preds1)\n",
    "        errors1.append({'K': k1, 'RMSE': error1})\n",
    "        \n",
    "    return errors1"
   ]
  },
  {
   "cell_type": "code",
   "execution_count": 10,
   "metadata": {},
   "outputs": [
    {
     "data": {
      "text/plain": [
       "[{'K': 1, 'RMSE': 60.3943939416283},\n",
       " {'K': 3, 'RMSE': 54.89952773720319},\n",
       " {'K': 5, 'RMSE': 56.689705816889145},\n",
       " {'K': 7, 'RMSE': 55.710650600326325},\n",
       " {'K': 9, 'RMSE': 52.910005436647005},\n",
       " {'K': 11, 'RMSE': 59.072645800340425},\n",
       " {'K': 13, 'RMSE': 60.84033970882923},\n",
       " {'K': 15, 'RMSE': 62.89467956806421},\n",
       " {'K': 17, 'RMSE': 53.11009312657742},\n",
       " {'K': 19, 'RMSE': 56.26864961441388}]"
      ]
     },
     "execution_count": 10,
     "metadata": {},
     "output_type": "execute_result"
    }
   ],
   "source": [
    "k_errors1 = optimize_k1(data1, target1='TT')\n",
    "k_errors1"
   ]
  },
  {
   "cell_type": "code",
   "execution_count": 11,
   "metadata": {},
   "outputs": [],
   "source": [
    "from sklearn.impute import KNNImputer\n",
    "\n",
    "imputer1 = KNNImputer(n_neighbors=9)\n",
    "imputed1 = imputer1.fit_transform(data1)\n",
    "df_imputed1 = pd.DataFrame(imputed1, columns=data1.columns)"
   ]
  },
  {
   "cell_type": "code",
   "execution_count": 12,
   "metadata": {},
   "outputs": [],
   "source": [
    "df_imputed1.to_excel('PM25_process.xlsx')"
   ]
  },
  {
   "cell_type": "markdown",
   "metadata": {},
   "source": [
    "# NOx"
   ]
  },
  {
   "cell_type": "code",
   "execution_count": 13,
   "metadata": {},
   "outputs": [
    {
     "data": {
      "text/html": [
       "<div>\n",
       "<style scoped>\n",
       "    .dataframe tbody tr th:only-of-type {\n",
       "        vertical-align: middle;\n",
       "    }\n",
       "\n",
       "    .dataframe tbody tr th {\n",
       "        vertical-align: top;\n",
       "    }\n",
       "\n",
       "    .dataframe thead th {\n",
       "        text-align: right;\n",
       "    }\n",
       "</style>\n",
       "<table border=\"1\" class=\"dataframe\">\n",
       "  <thead>\n",
       "    <tr style=\"text-align: right;\">\n",
       "      <th></th>\n",
       "      <th>NOx</th>\n",
       "      <th>Tempreture</th>\n",
       "      <th>Humid</th>\n",
       "      <th>Wind Speed</th>\n",
       "      <th>Wind Direction Sin</th>\n",
       "      <th>Wind Direction COS</th>\n",
       "      <th>Pressure</th>\n",
       "      <th>RainFall</th>\n",
       "    </tr>\n",
       "  </thead>\n",
       "  <tbody>\n",
       "    <tr>\n",
       "      <th>0</th>\n",
       "      <td>10.434783</td>\n",
       "      <td>19.0</td>\n",
       "      <td>47.125</td>\n",
       "      <td>1.87500</td>\n",
       "      <td>-0.9397</td>\n",
       "      <td>-0.342020</td>\n",
       "      <td>1011.76</td>\n",
       "      <td>0.00</td>\n",
       "    </tr>\n",
       "    <tr>\n",
       "      <th>1</th>\n",
       "      <td>14.041667</td>\n",
       "      <td>20.7</td>\n",
       "      <td>45.000</td>\n",
       "      <td>2.62500</td>\n",
       "      <td>0.7660</td>\n",
       "      <td>-0.642788</td>\n",
       "      <td>1012.04</td>\n",
       "      <td>0.10</td>\n",
       "    </tr>\n",
       "    <tr>\n",
       "      <th>2</th>\n",
       "      <td>12.541667</td>\n",
       "      <td>19.9</td>\n",
       "      <td>54.375</td>\n",
       "      <td>5.42857</td>\n",
       "      <td>0.4999</td>\n",
       "      <td>-0.866025</td>\n",
       "      <td>1007.88</td>\n",
       "      <td>0.61</td>\n",
       "    </tr>\n",
       "    <tr>\n",
       "      <th>3</th>\n",
       "      <td>9.958333</td>\n",
       "      <td>16.6</td>\n",
       "      <td>91.250</td>\n",
       "      <td>2.87500</td>\n",
       "      <td>0.9397</td>\n",
       "      <td>-0.342020</td>\n",
       "      <td>1008.66</td>\n",
       "      <td>22.00</td>\n",
       "    </tr>\n",
       "    <tr>\n",
       "      <th>4</th>\n",
       "      <td>12.916667</td>\n",
       "      <td>18.9</td>\n",
       "      <td>70.125</td>\n",
       "      <td>1.87500</td>\n",
       "      <td>-0.5000</td>\n",
       "      <td>0.866025</td>\n",
       "      <td>1007.70</td>\n",
       "      <td>1.00</td>\n",
       "    </tr>\n",
       "  </tbody>\n",
       "</table>\n",
       "</div>"
      ],
      "text/plain": [
       "         NOx  Tempreture   Humid  Wind Speed  Wind Direction Sin  \\\n",
       "0  10.434783        19.0  47.125     1.87500             -0.9397   \n",
       "1  14.041667        20.7  45.000     2.62500              0.7660   \n",
       "2  12.541667        19.9  54.375     5.42857              0.4999   \n",
       "3   9.958333        16.6  91.250     2.87500              0.9397   \n",
       "4  12.916667        18.9  70.125     1.87500             -0.5000   \n",
       "\n",
       "   Wind Direction COS  Pressure  RainFall  \n",
       "0           -0.342020   1011.76      0.00  \n",
       "1           -0.642788   1012.04      0.10  \n",
       "2           -0.866025   1007.88      0.61  \n",
       "3           -0.342020   1008.66     22.00  \n",
       "4            0.866025   1007.70      1.00  "
      ]
     },
     "execution_count": 13,
     "metadata": {},
     "output_type": "execute_result"
    }
   ],
   "source": [
    "import pandas as pd\n",
    "data2 = pd.read_excel('NOx.xlsx')\n",
    "\n",
    "data2.head()"
   ]
  },
  {
   "cell_type": "code",
   "execution_count": 14,
   "metadata": {},
   "outputs": [],
   "source": [
    "from sklearn.model_selection import train_test_split\n",
    "from sklearn.ensemble import RandomForestRegressor\n",
    "from sklearn.metrics import mean_squared_error\n",
    "import numpy as np\n",
    "from sklearn.impute import KNNImputer\n",
    "from math import sqrt\n",
    "rmse2 = lambda y2, yhat2: np.sqrt(mean_squared_error(y2, yhat2))"
   ]
  },
  {
   "cell_type": "code",
   "execution_count": 15,
   "metadata": {},
   "outputs": [],
   "source": [
    "def optimize_k2(data2, target2):\n",
    "    errors2 = []\n",
    "    for k2 in range(1, 20, 2):\n",
    "        imputer2 = KNNImputer(n_neighbors=k2)\n",
    "        imputed2 = imputer2.fit_transform(data2)\n",
    "        df_imputed2 = pd.DataFrame(imputed2, columns=data2.columns)\n",
    "        \n",
    "        X2 = df_imputed2.drop(target2, axis=1)\n",
    "        y2 = df_imputed2[target2]\n",
    "        X_train2, X_test2, y_train2, y_test2 = train_test_split(X2, y2, test_size=0.2, random_state=42)\n",
    "\n",
    "        model2 = RandomForestRegressor(n_estimators=6, random_state=0)\n",
    "        model2.fit(X_train2, y_train2)\n",
    "        preds2 = model2.predict(X_test2)\n",
    "        error2 = rmse2(y_test2, preds2)\n",
    "        errors2.append({'K': k2, 'RMSE': error2})\n",
    "        \n",
    "    return errors2"
   ]
  },
  {
   "cell_type": "code",
   "execution_count": 16,
   "metadata": {},
   "outputs": [
    {
     "data": {
      "text/plain": [
       "[{'K': 1, 'RMSE': 15.293453973704409},\n",
       " {'K': 3, 'RMSE': 14.908294574925247},\n",
       " {'K': 5, 'RMSE': 13.975034204542105},\n",
       " {'K': 7, 'RMSE': 15.06869139421989},\n",
       " {'K': 9, 'RMSE': 14.168674761367114},\n",
       " {'K': 11, 'RMSE': 14.010824707288434},\n",
       " {'K': 13, 'RMSE': 14.729963180516796},\n",
       " {'K': 15, 'RMSE': 14.403091334351146},\n",
       " {'K': 17, 'RMSE': 14.980009334469454},\n",
       " {'K': 19, 'RMSE': 14.916561387286995}]"
      ]
     },
     "execution_count": 16,
     "metadata": {},
     "output_type": "execute_result"
    }
   ],
   "source": [
    "k_errors2 = optimize_k2(data2, target2='NOx')\n",
    "k_errors2"
   ]
  },
  {
   "cell_type": "code",
   "execution_count": 17,
   "metadata": {},
   "outputs": [],
   "source": [
    "from sklearn.impute import KNNImputer\n",
    "\n",
    "imputer2 = KNNImputer(n_neighbors=5)\n",
    "imputed2 = imputer2.fit_transform(data2)\n",
    "df_imputed2 = pd.DataFrame(imputed2, columns=data2.columns)"
   ]
  },
  {
   "cell_type": "code",
   "execution_count": 18,
   "metadata": {},
   "outputs": [],
   "source": [
    "df_imputed2.to_excel('NOx_process.xlsx')"
   ]
  },
  {
   "cell_type": "code",
   "execution_count": null,
   "metadata": {},
   "outputs": [],
   "source": []
  }
 ],
 "metadata": {
  "kernelspec": {
   "display_name": "Python 3 (ipykernel)",
   "language": "python",
   "name": "python3"
  },
  "language_info": {
   "codemirror_mode": {
    "name": "ipython",
    "version": 3
   },
   "file_extension": ".py",
   "mimetype": "text/x-python",
   "name": "python",
   "nbconvert_exporter": "python",
   "pygments_lexer": "ipython3",
   "version": "3.9.7"
  }
 },
 "nbformat": 4,
 "nbformat_minor": 2
}
