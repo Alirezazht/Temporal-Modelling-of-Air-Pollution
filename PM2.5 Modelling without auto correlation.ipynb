{
 "cells": [
  {
   "cell_type": "code",
   "execution_count": 1,
   "metadata": {
    "scrolled": true
   },
   "outputs": [
    {
     "data": {
      "text/html": [
       "<div>\n",
       "<style scoped>\n",
       "    .dataframe tbody tr th:only-of-type {\n",
       "        vertical-align: middle;\n",
       "    }\n",
       "\n",
       "    .dataframe tbody tr th {\n",
       "        vertical-align: top;\n",
       "    }\n",
       "\n",
       "    .dataframe thead th {\n",
       "        text-align: right;\n",
       "    }\n",
       "</style>\n",
       "<table border=\"1\" class=\"dataframe\">\n",
       "  <thead>\n",
       "    <tr style=\"text-align: right;\">\n",
       "      <th></th>\n",
       "      <th>Unnamed: 0</th>\n",
       "      <th>TT</th>\n",
       "      <th>Tempreture</th>\n",
       "      <th>Humid</th>\n",
       "      <th>Wind Speed</th>\n",
       "      <th>Wind Direction Sin</th>\n",
       "      <th>Wind Direction COS</th>\n",
       "      <th>Pressure</th>\n",
       "      <th>RainFall</th>\n",
       "      <th>Day</th>\n",
       "    </tr>\n",
       "  </thead>\n",
       "  <tbody>\n",
       "    <tr>\n",
       "      <th>0</th>\n",
       "      <td>0</td>\n",
       "      <td>40.363636</td>\n",
       "      <td>19.0</td>\n",
       "      <td>47.125</td>\n",
       "      <td>1.87500</td>\n",
       "      <td>-0.9397</td>\n",
       "      <td>-0.342020</td>\n",
       "      <td>1011.76</td>\n",
       "      <td>0.00</td>\n",
       "      <td>0</td>\n",
       "    </tr>\n",
       "    <tr>\n",
       "      <th>1</th>\n",
       "      <td>1</td>\n",
       "      <td>41.541667</td>\n",
       "      <td>20.7</td>\n",
       "      <td>45.000</td>\n",
       "      <td>2.62500</td>\n",
       "      <td>0.7660</td>\n",
       "      <td>-0.642788</td>\n",
       "      <td>1012.04</td>\n",
       "      <td>0.10</td>\n",
       "      <td>1</td>\n",
       "    </tr>\n",
       "    <tr>\n",
       "      <th>2</th>\n",
       "      <td>2</td>\n",
       "      <td>43.416667</td>\n",
       "      <td>19.9</td>\n",
       "      <td>54.375</td>\n",
       "      <td>5.42857</td>\n",
       "      <td>0.4999</td>\n",
       "      <td>-0.866025</td>\n",
       "      <td>1007.88</td>\n",
       "      <td>0.61</td>\n",
       "      <td>2</td>\n",
       "    </tr>\n",
       "    <tr>\n",
       "      <th>3</th>\n",
       "      <td>3</td>\n",
       "      <td>38.291667</td>\n",
       "      <td>16.6</td>\n",
       "      <td>91.250</td>\n",
       "      <td>2.87500</td>\n",
       "      <td>0.9397</td>\n",
       "      <td>-0.342020</td>\n",
       "      <td>1008.66</td>\n",
       "      <td>22.00</td>\n",
       "      <td>3</td>\n",
       "    </tr>\n",
       "    <tr>\n",
       "      <th>4</th>\n",
       "      <td>4</td>\n",
       "      <td>23.681818</td>\n",
       "      <td>18.9</td>\n",
       "      <td>70.125</td>\n",
       "      <td>1.87500</td>\n",
       "      <td>-0.5000</td>\n",
       "      <td>0.866025</td>\n",
       "      <td>1007.70</td>\n",
       "      <td>1.00</td>\n",
       "      <td>4</td>\n",
       "    </tr>\n",
       "  </tbody>\n",
       "</table>\n",
       "</div>"
      ],
      "text/plain": [
       "   Unnamed: 0         TT  Tempreture   Humid  Wind Speed  Wind Direction Sin  \\\n",
       "0           0  40.363636        19.0  47.125     1.87500             -0.9397   \n",
       "1           1  41.541667        20.7  45.000     2.62500              0.7660   \n",
       "2           2  43.416667        19.9  54.375     5.42857              0.4999   \n",
       "3           3  38.291667        16.6  91.250     2.87500              0.9397   \n",
       "4           4  23.681818        18.9  70.125     1.87500             -0.5000   \n",
       "\n",
       "   Wind Direction COS  Pressure  RainFall  Day  \n",
       "0           -0.342020   1011.76      0.00    0  \n",
       "1           -0.642788   1012.04      0.10    1  \n",
       "2           -0.866025   1007.88      0.61    2  \n",
       "3           -0.342020   1008.66     22.00    3  \n",
       "4            0.866025   1007.70      1.00    4  "
      ]
     },
     "execution_count": 1,
     "metadata": {},
     "output_type": "execute_result"
    }
   ],
   "source": [
    "import pandas as pd\n",
    "data = pd.read_excel('PM25_Process.xlsx')\n",
    "day = []\n",
    "for i in range(365):\n",
    "    day.append(i)\n",
    "data['Day'] = day\n",
    "data.head()"
   ]
  },
  {
   "cell_type": "code",
   "execution_count": 87,
   "metadata": {},
   "outputs": [
    {
     "data": {
      "text/html": [
       "<div>\n",
       "<style scoped>\n",
       "    .dataframe tbody tr th:only-of-type {\n",
       "        vertical-align: middle;\n",
       "    }\n",
       "\n",
       "    .dataframe tbody tr th {\n",
       "        vertical-align: top;\n",
       "    }\n",
       "\n",
       "    .dataframe thead th {\n",
       "        text-align: right;\n",
       "    }\n",
       "</style>\n",
       "<table border=\"1\" class=\"dataframe\">\n",
       "  <thead>\n",
       "    <tr style=\"text-align: right;\">\n",
       "      <th></th>\n",
       "      <th>Unnamed: 0</th>\n",
       "      <th>TT</th>\n",
       "      <th>Tempreture</th>\n",
       "      <th>Humid</th>\n",
       "      <th>Wind Speed</th>\n",
       "      <th>Wind Direction Sin</th>\n",
       "      <th>Wind Direction COS</th>\n",
       "      <th>Pressure</th>\n",
       "      <th>RainFall</th>\n",
       "      <th>Day</th>\n",
       "    </tr>\n",
       "  </thead>\n",
       "  <tbody>\n",
       "    <tr>\n",
       "      <th>Unnamed: 0</th>\n",
       "      <td>1.000000</td>\n",
       "      <td>0.152489</td>\n",
       "      <td>-0.653723</td>\n",
       "      <td>0.526875</td>\n",
       "      <td>-0.341412</td>\n",
       "      <td>0.103535</td>\n",
       "      <td>-0.006275</td>\n",
       "      <td>0.545694</td>\n",
       "      <td>0.082953</td>\n",
       "      <td>1.000000</td>\n",
       "    </tr>\n",
       "    <tr>\n",
       "      <th>TT</th>\n",
       "      <td>0.152489</td>\n",
       "      <td>1.000000</td>\n",
       "      <td>-0.158486</td>\n",
       "      <td>0.263326</td>\n",
       "      <td>0.008724</td>\n",
       "      <td>0.068675</td>\n",
       "      <td>-0.051769</td>\n",
       "      <td>0.132811</td>\n",
       "      <td>-0.006119</td>\n",
       "      <td>0.152489</td>\n",
       "    </tr>\n",
       "    <tr>\n",
       "      <th>Tempreture</th>\n",
       "      <td>-0.653723</td>\n",
       "      <td>-0.158486</td>\n",
       "      <td>1.000000</td>\n",
       "      <td>-0.696752</td>\n",
       "      <td>0.341015</td>\n",
       "      <td>-0.227174</td>\n",
       "      <td>-0.011811</td>\n",
       "      <td>-0.935022</td>\n",
       "      <td>-0.160012</td>\n",
       "      <td>-0.653723</td>\n",
       "    </tr>\n",
       "    <tr>\n",
       "      <th>Humid</th>\n",
       "      <td>0.526875</td>\n",
       "      <td>0.263326</td>\n",
       "      <td>-0.696752</td>\n",
       "      <td>1.000000</td>\n",
       "      <td>-0.306427</td>\n",
       "      <td>0.210121</td>\n",
       "      <td>-0.062827</td>\n",
       "      <td>0.628884</td>\n",
       "      <td>0.326711</td>\n",
       "      <td>0.526875</td>\n",
       "    </tr>\n",
       "    <tr>\n",
       "      <th>Wind Speed</th>\n",
       "      <td>-0.341412</td>\n",
       "      <td>0.008724</td>\n",
       "      <td>0.341015</td>\n",
       "      <td>-0.306427</td>\n",
       "      <td>1.000000</td>\n",
       "      <td>-0.099047</td>\n",
       "      <td>-0.056553</td>\n",
       "      <td>-0.369930</td>\n",
       "      <td>0.059238</td>\n",
       "      <td>-0.341412</td>\n",
       "    </tr>\n",
       "    <tr>\n",
       "      <th>Wind Direction Sin</th>\n",
       "      <td>0.103535</td>\n",
       "      <td>0.068675</td>\n",
       "      <td>-0.227174</td>\n",
       "      <td>0.210121</td>\n",
       "      <td>-0.099047</td>\n",
       "      <td>1.000000</td>\n",
       "      <td>-0.276904</td>\n",
       "      <td>0.217197</td>\n",
       "      <td>0.130995</td>\n",
       "      <td>0.103535</td>\n",
       "    </tr>\n",
       "    <tr>\n",
       "      <th>Wind Direction COS</th>\n",
       "      <td>-0.006275</td>\n",
       "      <td>-0.051769</td>\n",
       "      <td>-0.011811</td>\n",
       "      <td>-0.062827</td>\n",
       "      <td>-0.056553</td>\n",
       "      <td>-0.276904</td>\n",
       "      <td>1.000000</td>\n",
       "      <td>0.090449</td>\n",
       "      <td>-0.116540</td>\n",
       "      <td>-0.006275</td>\n",
       "    </tr>\n",
       "    <tr>\n",
       "      <th>Pressure</th>\n",
       "      <td>0.545694</td>\n",
       "      <td>0.132811</td>\n",
       "      <td>-0.935022</td>\n",
       "      <td>0.628884</td>\n",
       "      <td>-0.369930</td>\n",
       "      <td>0.217197</td>\n",
       "      <td>0.090449</td>\n",
       "      <td>1.000000</td>\n",
       "      <td>0.107920</td>\n",
       "      <td>0.545694</td>\n",
       "    </tr>\n",
       "    <tr>\n",
       "      <th>RainFall</th>\n",
       "      <td>0.082953</td>\n",
       "      <td>-0.006119</td>\n",
       "      <td>-0.160012</td>\n",
       "      <td>0.326711</td>\n",
       "      <td>0.059238</td>\n",
       "      <td>0.130995</td>\n",
       "      <td>-0.116540</td>\n",
       "      <td>0.107920</td>\n",
       "      <td>1.000000</td>\n",
       "      <td>0.082953</td>\n",
       "    </tr>\n",
       "    <tr>\n",
       "      <th>Day</th>\n",
       "      <td>1.000000</td>\n",
       "      <td>0.152489</td>\n",
       "      <td>-0.653723</td>\n",
       "      <td>0.526875</td>\n",
       "      <td>-0.341412</td>\n",
       "      <td>0.103535</td>\n",
       "      <td>-0.006275</td>\n",
       "      <td>0.545694</td>\n",
       "      <td>0.082953</td>\n",
       "      <td>1.000000</td>\n",
       "    </tr>\n",
       "  </tbody>\n",
       "</table>\n",
       "</div>"
      ],
      "text/plain": [
       "                    Unnamed: 0        TT  Tempreture     Humid  Wind Speed  \\\n",
       "Unnamed: 0            1.000000  0.152489   -0.653723  0.526875   -0.341412   \n",
       "TT                    0.152489  1.000000   -0.158486  0.263326    0.008724   \n",
       "Tempreture           -0.653723 -0.158486    1.000000 -0.696752    0.341015   \n",
       "Humid                 0.526875  0.263326   -0.696752  1.000000   -0.306427   \n",
       "Wind Speed           -0.341412  0.008724    0.341015 -0.306427    1.000000   \n",
       "Wind Direction Sin    0.103535  0.068675   -0.227174  0.210121   -0.099047   \n",
       "Wind Direction COS   -0.006275 -0.051769   -0.011811 -0.062827   -0.056553   \n",
       "Pressure              0.545694  0.132811   -0.935022  0.628884   -0.369930   \n",
       "RainFall              0.082953 -0.006119   -0.160012  0.326711    0.059238   \n",
       "Day                   1.000000  0.152489   -0.653723  0.526875   -0.341412   \n",
       "\n",
       "                    Wind Direction Sin  Wind Direction COS  Pressure  \\\n",
       "Unnamed: 0                    0.103535           -0.006275  0.545694   \n",
       "TT                            0.068675           -0.051769  0.132811   \n",
       "Tempreture                   -0.227174           -0.011811 -0.935022   \n",
       "Humid                         0.210121           -0.062827  0.628884   \n",
       "Wind Speed                   -0.099047           -0.056553 -0.369930   \n",
       "Wind Direction Sin            1.000000           -0.276904  0.217197   \n",
       "Wind Direction COS           -0.276904            1.000000  0.090449   \n",
       "Pressure                      0.217197            0.090449  1.000000   \n",
       "RainFall                      0.130995           -0.116540  0.107920   \n",
       "Day                           0.103535           -0.006275  0.545694   \n",
       "\n",
       "                    RainFall       Day  \n",
       "Unnamed: 0          0.082953  1.000000  \n",
       "TT                 -0.006119  0.152489  \n",
       "Tempreture         -0.160012 -0.653723  \n",
       "Humid               0.326711  0.526875  \n",
       "Wind Speed          0.059238 -0.341412  \n",
       "Wind Direction Sin  0.130995  0.103535  \n",
       "Wind Direction COS -0.116540 -0.006275  \n",
       "Pressure            0.107920  0.545694  \n",
       "RainFall            1.000000  0.082953  \n",
       "Day                 0.082953  1.000000  "
      ]
     },
     "execution_count": 87,
     "metadata": {},
     "output_type": "execute_result"
    }
   ],
   "source": [
    "data.corr()"
   ]
  },
  {
   "cell_type": "code",
   "execution_count": 12,
   "metadata": {},
   "outputs": [],
   "source": [
    "X = data[['Humid','Wind Speed','Wind Direction Sin','Wind Direction COS','Pressure','RainFall','Day']]\n",
    "X = X.values\n",
    "Y = data['TT']\n",
    "Y = Y.values\n",
    "\n",
    "\n",
    "from sklearn.decomposition import PCA as sklearnPCA\n",
    "sklearn_pca = sklearnPCA(n_components=7)\n",
    "X_sklearn = sklearn_pca.fit_transform(X)\n",
    "from sklearn.model_selection import train_test_split\n",
    "x_train,x_test,y_train,y_test = train_test_split(X,Y, random_state=0 ,test_size=0.2)"
   ]
  },
  {
   "cell_type": "markdown",
   "metadata": {},
   "source": [
    "# MLP"
   ]
  },
  {
   "cell_type": "code",
   "execution_count": 50,
   "metadata": {},
   "outputs": [
    {
     "name": "stdout",
     "output_type": "stream",
     "text": [
      "WARNING:tensorflow:5 out of the last 13 calls to <function Model.make_test_function.<locals>.test_function at 0x000001C4C8EBE598> triggered tf.function retracing. Tracing is expensive and the excessive number of tracings could be due to (1) creating @tf.function repeatedly in a loop, (2) passing tensors with different shapes, (3) passing Python objects instead of tensors. For (1), please define your @tf.function outside of the loop. For (2), @tf.function has experimental_relax_shapes=True option that relaxes argument shapes that can avoid unnecessary retracing. For (3), please refer to https://www.tensorflow.org/guide/function#controlling_retracing and https://www.tensorflow.org/api_docs/python/tf/function for  more details.\n",
      "3/3 [==============================] - 0s 8ms/step - loss: 3873.7188\n"
     ]
    },
    {
     "data": {
      "text/plain": [
       "3873.71875"
      ]
     },
     "execution_count": 50,
     "metadata": {},
     "output_type": "execute_result"
    }
   ],
   "source": [
    "import keras\n",
    "from keras.layers import Dense\n",
    "from keras.models import Sequential\n",
    "model = Sequential()\n",
    "model.add(Dense(12, activation='relu', input_dim=7))\n",
    "model.add(Dense(15,activation = 'relu'))\n",
    "model.add(Dense(1))\n",
    "model.compile(optimizer='adam', loss='mse')\n",
    "model.fit(x_train, y_train, epochs=2000,batch_size=len(x_train), verbose=0)\n",
    "model.evaluate(x_test,y_test)"
   ]
  },
  {
   "cell_type": "code",
   "execution_count": 47,
   "metadata": {},
   "outputs": [
    {
     "name": "stdout",
     "output_type": "stream",
     "text": [
      "mse : 3732.736\n",
      "rmse : 61.096\n",
      "mae : 25.807\n"
     ]
    }
   ],
   "source": [
    "from sklearn.metrics import mean_squared_error\n",
    "from sklearn.metrics import mean_absolute_error\n",
    "import math\n",
    "y_new_inverse3 = model.predict(x_test)\n",
    "mse33 = mean_squared_error(y_test, y_new_inverse3)\n",
    "mae33 = mean_absolute_error(y_test, y_new_inverse3)\n",
    "rmse33 = math.sqrt(mse33)\n",
    "print('mse : %.3f'%mse33)\n",
    "print('rmse : %.3f'%rmse33)\n",
    "print('mae : %.3f'%mae33)"
   ]
  },
  {
   "cell_type": "code",
   "execution_count": 48,
   "metadata": {
    "scrolled": true
   },
   "outputs": [
    {
     "data": {
      "text/plain": [
       "(10, 180)"
      ]
     },
     "execution_count": 48,
     "metadata": {},
     "output_type": "execute_result"
    },
    {
     "data": {
      "image/png": "[encoded data removed]",
      "text/plain": [
       "<Figure size 432x288 with 1 Axes>"
      ]
     },
     "metadata": {
      "needs_background": "light"
     },
     "output_type": "display_data"
    }
   ],
   "source": [
    "import matplotlib\n",
    "import matplotlib.pyplot as plt\n",
    "from sklearn.metrics import median_absolute_error, r2_score\n",
    "plt.scatter(y_test,y_new_inverse3)\n",
    "plt.plot([0, 250], [0, 250], '--k')\n",
    "plt.ylabel('predicted')\n",
    "plt.xlabel('observed')\n",
    "plt.text(25,155,'MLP',fontsize=16)\n",
    "plt.text(20,140, r'$R^2$=%.2f'% (\n",
    "       r2_score(y_test,y_new_inverse3)),fontsize=12)\n",
    "plt.xlim([10, 180])\n",
    "plt.ylim([10, 180])"
   ]
  },
  {
   "cell_type": "code",
   "execution_count": 49,
   "metadata": {},
   "outputs": [
    {
     "name": "stdout",
     "output_type": "stream",
     "text": [
      "Saved model to disk\n"
     ]
    }
   ],
   "source": [
    "model_json1 = model.to_json()\n",
    "with open(\"MLP_PM25_without_Autocorelation_1.json\", \"w\") as json_file:\n",
    "    json_file.write(model_json1)\n",
    "# serialize weights to HDF5\n",
    "model.save_weights(\"MLP_PM25_without_Autocorelation_1.h5\")\n",
    "print(\"Saved model to disk\")"
   ]
  },
  {
   "cell_type": "markdown",
   "metadata": {},
   "source": [
    "# Random Forest"
   ]
  },
  {
   "cell_type": "code",
   "execution_count": 35,
   "metadata": {},
   "outputs": [
    {
     "name": "stdout",
     "output_type": "stream",
     "text": [
      "mse : 2839.171\n",
      "rmse : 53.284\n",
      "mae : 21.342\n"
     ]
    }
   ],
   "source": [
    "from sklearn.ensemble import RandomForestRegressor\n",
    "from sklearn.metrics import mean_squared_error\n",
    "from sklearn.metrics import mean_absolute_error\n",
    "import math\n",
    "regressor10 = RandomForestRegressor(n_estimators=60, random_state=0)\n",
    "regressor10.fit(x_train, y_train)\n",
    "y_new_inverse30 = regressor10.predict(x_test)\n",
    "mse33 = mean_squared_error(y_test, y_new_inverse30)\n",
    "mae33 = mean_absolute_error(y_test, y_new_inverse30)\n",
    "rmse33 = math.sqrt(mse33)\n",
    "print('mse : %.3f'%mse33)\n",
    "print('rmse : %.3f'%rmse33)\n",
    "print('mae : %.3f'%mae33)"
   ]
  },
  {
   "cell_type": "code",
   "execution_count": 36,
   "metadata": {},
   "outputs": [
    {
     "data": {
      "text/plain": [
       "(10, 180)"
      ]
     },
     "execution_count": 36,
     "metadata": {},
     "output_type": "execute_result"
    },
    {
     "data": {
      "image/png": "[encoded data removed]",
      "text/plain": [
       "<Figure size 432x288 with 1 Axes>"
      ]
     },
     "metadata": {
      "needs_background": "light"
     },
     "output_type": "display_data"
    }
   ],
   "source": [
    "import matplotlib\n",
    "import matplotlib.pyplot as plt\n",
    "from sklearn.metrics import median_absolute_error, r2_score\n",
    "plt.scatter(y_test,y_new_inverse30)\n",
    "plt.plot([0, 250], [0, 250], '--k')\n",
    "plt.ylabel('predicted')\n",
    "plt.xlabel('observed')\n",
    "plt.text(25,165,'Random Forest',fontsize=16)\n",
    "plt.text(42,150, r'$R^2$=%.2f'% (\n",
    "       r2_score(y_test,y_new_inverse30)),fontsize=12)\n",
    "plt.xlim([10, 180])\n",
    "plt.ylim([10, 180])"
   ]
  },
  {
   "cell_type": "markdown",
   "metadata": {},
   "source": [
    "# Linear Regression"
   ]
  },
  {
   "cell_type": "code",
   "execution_count": 48,
   "metadata": {},
   "outputs": [
    {
     "name": "stdout",
     "output_type": "stream",
     "text": [
      "mse : 1492.374\n",
      "rmse : 38.631\n",
      "mae : 24.098\n"
     ]
    }
   ],
   "source": [
    "from sklearn.linear_model import LinearRegression\n",
    "from sklearn.metrics import mean_squared_error\n",
    "from sklearn.metrics import mean_absolute_error\n",
    "import math\n",
    "sklinreg = LinearRegression()\n",
    "sklinreg.fit(x_train, y_train)\n",
    "y_ord_pred = sklinreg.predict(x_test)\n",
    "mse33 = mean_squared_error(y_test, y_ord_pred)\n",
    "mae33 = mean_absolute_error(y_test, y_ord_pred)\n",
    "rmse33 = math.sqrt(mse33)\n",
    "print('mse : %.3f'%mse33)\n",
    "print('rmse : %.3f'%rmse33)\n",
    "print('mae : %.3f'%mae33)"
   ]
  },
  {
   "cell_type": "code",
   "execution_count": 49,
   "metadata": {},
   "outputs": [
    {
     "data": {
      "text/plain": [
       "(10, 180)"
      ]
     },
     "execution_count": 49,
     "metadata": {},
     "output_type": "execute_result"
    },
    {
     "data": {
      "image/png": "[encoded data removed]",
      "text/plain": [
       "<Figure size 432x288 with 1 Axes>"
      ]
     },
     "metadata": {
      "needs_background": "light"
     },
     "output_type": "display_data"
    }
   ],
   "source": [
    "import matplotlib\n",
    "import matplotlib.pyplot as plt\n",
    "from sklearn.metrics import median_absolute_error, r2_score\n",
    "plt.scatter(y_test,y_ord_pred)\n",
    "plt.plot([0, 250], [0, 250], '--k')\n",
    "plt.ylabel('predicted')\n",
    "plt.xlabel('observed')\n",
    "plt.text(25,155,'MLR',fontsize=16)\n",
    "plt.text(20,140, r'$R^2$=%.2f'% (\n",
    "       r2_score(y_test,y_ord_pred)),fontsize=12)\n",
    "plt.xlim([10, 180])\n",
    "plt.ylim([10, 180])"
   ]
  },
  {
   "cell_type": "code",
   "execution_count": null,
   "metadata": {},
   "outputs": [],
   "source": []
  }
 ],
 "metadata": {
  "kernelspec": {
   "display_name": "Python 3",
   "language": "python",
   "name": "python3"
  },
  "language_info": {
   "codemirror_mode": {
    "name": "ipython",
    "version": 3
   },
   "file_extension": ".py",
   "mimetype": "text/x-python",
   "name": "python",
   "nbconvert_exporter": "python",
   "pygments_lexer": "ipython3",
   "version": "3.7.3"
  }
 },
 "nbformat": 4,
 "nbformat_minor": 2
}
